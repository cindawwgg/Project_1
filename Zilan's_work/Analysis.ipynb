{
 "cells": [
  {
   "cell_type": "code",
   "execution_count": 1,
   "metadata": {},
   "outputs": [],
   "source": [
    "from pathlib import Path\n",
    "import pandas as pd \n",
    "import matplotlib.pyplot as plt\n",
    "import pandas as pd\n",
    "import scipy.stats as st"
   ]
  },
  {
   "cell_type": "code",
   "execution_count": 2,
   "metadata": {},
   "outputs": [],
   "source": [
    "path= \"Clean_CSV.csv\""
   ]
  },
  {
   "cell_type": "code",
   "execution_count": 3,
   "metadata": {},
   "outputs": [
    {
     "data": {
      "text/html": [
       "<div>\n",
       "<style scoped>\n",
       "    .dataframe tbody tr th:only-of-type {\n",
       "        vertical-align: middle;\n",
       "    }\n",
       "\n",
       "    .dataframe tbody tr th {\n",
       "        vertical-align: top;\n",
       "    }\n",
       "\n",
       "    .dataframe thead th {\n",
       "        text-align: right;\n",
       "    }\n",
       "</style>\n",
       "<table border=\"1\" class=\"dataframe\">\n",
       "  <thead>\n",
       "    <tr style=\"text-align: right;\">\n",
       "      <th></th>\n",
       "      <th>User_ID</th>\n",
       "      <th>Age</th>\n",
       "      <th>Gender</th>\n",
       "      <th>Platform</th>\n",
       "      <th>Daily_Usage_Time (minutes)</th>\n",
       "      <th>Posts_Per_Day</th>\n",
       "      <th>Likes_Received_Per_Day</th>\n",
       "      <th>Comments_Received_Per_Day</th>\n",
       "      <th>Messages_Sent_Per_Day</th>\n",
       "      <th>Dominant_Emotion</th>\n",
       "    </tr>\n",
       "  </thead>\n",
       "  <tbody>\n",
       "    <tr>\n",
       "      <th>0</th>\n",
       "      <td>1</td>\n",
       "      <td>25</td>\n",
       "      <td>Female</td>\n",
       "      <td>Instagram</td>\n",
       "      <td>120.0</td>\n",
       "      <td>3.0</td>\n",
       "      <td>45.0</td>\n",
       "      <td>10.0</td>\n",
       "      <td>12.0</td>\n",
       "      <td>Happiness</td>\n",
       "    </tr>\n",
       "    <tr>\n",
       "      <th>1</th>\n",
       "      <td>2</td>\n",
       "      <td>30</td>\n",
       "      <td>Male</td>\n",
       "      <td>Twitter</td>\n",
       "      <td>90.0</td>\n",
       "      <td>5.0</td>\n",
       "      <td>20.0</td>\n",
       "      <td>25.0</td>\n",
       "      <td>30.0</td>\n",
       "      <td>Anger</td>\n",
       "    </tr>\n",
       "    <tr>\n",
       "      <th>2</th>\n",
       "      <td>3</td>\n",
       "      <td>22</td>\n",
       "      <td>Non-binary</td>\n",
       "      <td>Facebook</td>\n",
       "      <td>60.0</td>\n",
       "      <td>2.0</td>\n",
       "      <td>15.0</td>\n",
       "      <td>5.0</td>\n",
       "      <td>20.0</td>\n",
       "      <td>Neutral</td>\n",
       "    </tr>\n",
       "    <tr>\n",
       "      <th>3</th>\n",
       "      <td>4</td>\n",
       "      <td>28</td>\n",
       "      <td>Female</td>\n",
       "      <td>Instagram</td>\n",
       "      <td>200.0</td>\n",
       "      <td>8.0</td>\n",
       "      <td>100.0</td>\n",
       "      <td>30.0</td>\n",
       "      <td>50.0</td>\n",
       "      <td>Anxiety</td>\n",
       "    </tr>\n",
       "    <tr>\n",
       "      <th>4</th>\n",
       "      <td>5</td>\n",
       "      <td>33</td>\n",
       "      <td>Male</td>\n",
       "      <td>LinkedIn</td>\n",
       "      <td>45.0</td>\n",
       "      <td>1.0</td>\n",
       "      <td>5.0</td>\n",
       "      <td>2.0</td>\n",
       "      <td>10.0</td>\n",
       "      <td>Boredom</td>\n",
       "    </tr>\n",
       "  </tbody>\n",
       "</table>\n",
       "</div>"
      ],
      "text/plain": [
       "   User_ID  Age      Gender   Platform  Daily_Usage_Time (minutes)  \\\n",
       "0        1   25      Female  Instagram                       120.0   \n",
       "1        2   30        Male    Twitter                        90.0   \n",
       "2        3   22  Non-binary   Facebook                        60.0   \n",
       "3        4   28      Female  Instagram                       200.0   \n",
       "4        5   33        Male   LinkedIn                        45.0   \n",
       "\n",
       "   Posts_Per_Day  Likes_Received_Per_Day  Comments_Received_Per_Day  \\\n",
       "0            3.0                    45.0                       10.0   \n",
       "1            5.0                    20.0                       25.0   \n",
       "2            2.0                    15.0                        5.0   \n",
       "3            8.0                   100.0                       30.0   \n",
       "4            1.0                     5.0                        2.0   \n",
       "\n",
       "   Messages_Sent_Per_Day Dominant_Emotion  \n",
       "0                   12.0        Happiness  \n",
       "1                   30.0            Anger  \n",
       "2                   20.0          Neutral  \n",
       "3                   50.0          Anxiety  \n",
       "4                   10.0          Boredom  "
      ]
     },
     "execution_count": 3,
     "metadata": {},
     "output_type": "execute_result"
    }
   ],
   "source": [
    "social_data= pd.read_csv(path)\n",
    "social_data.head()"
   ]
  },
  {
   "cell_type": "code",
   "execution_count": 4,
   "metadata": {},
   "outputs": [
    {
     "data": {
      "text/html": [
       "<div>\n",
       "<style scoped>\n",
       "    .dataframe tbody tr th:only-of-type {\n",
       "        vertical-align: middle;\n",
       "    }\n",
       "\n",
       "    .dataframe tbody tr th {\n",
       "        vertical-align: top;\n",
       "    }\n",
       "\n",
       "    .dataframe thead th {\n",
       "        text-align: right;\n",
       "    }\n",
       "</style>\n",
       "<table border=\"1\" class=\"dataframe\">\n",
       "  <thead>\n",
       "    <tr style=\"text-align: right;\">\n",
       "      <th></th>\n",
       "      <th>Gender</th>\n",
       "      <th>Platform</th>\n",
       "    </tr>\n",
       "  </thead>\n",
       "  <tbody>\n",
       "    <tr>\n",
       "      <th>0</th>\n",
       "      <td>Female</td>\n",
       "      <td>Instagram</td>\n",
       "    </tr>\n",
       "    <tr>\n",
       "      <th>1</th>\n",
       "      <td>Male</td>\n",
       "      <td>Twitter</td>\n",
       "    </tr>\n",
       "    <tr>\n",
       "      <th>2</th>\n",
       "      <td>Non-binary</td>\n",
       "      <td>Facebook</td>\n",
       "    </tr>\n",
       "    <tr>\n",
       "      <th>3</th>\n",
       "      <td>Female</td>\n",
       "      <td>Instagram</td>\n",
       "    </tr>\n",
       "    <tr>\n",
       "      <th>4</th>\n",
       "      <td>Male</td>\n",
       "      <td>LinkedIn</td>\n",
       "    </tr>\n",
       "    <tr>\n",
       "      <th>...</th>\n",
       "      <td>...</td>\n",
       "      <td>...</td>\n",
       "    </tr>\n",
       "    <tr>\n",
       "      <th>919</th>\n",
       "      <td>Non-binary</td>\n",
       "      <td>Twitter</td>\n",
       "    </tr>\n",
       "    <tr>\n",
       "      <th>920</th>\n",
       "      <td>Female</td>\n",
       "      <td>Facebook</td>\n",
       "    </tr>\n",
       "    <tr>\n",
       "      <th>921</th>\n",
       "      <td>Male</td>\n",
       "      <td>Whatsapp</td>\n",
       "    </tr>\n",
       "    <tr>\n",
       "      <th>922</th>\n",
       "      <td>Non-binary</td>\n",
       "      <td>Telegram</td>\n",
       "    </tr>\n",
       "    <tr>\n",
       "      <th>923</th>\n",
       "      <td>Female</td>\n",
       "      <td>Snapchat</td>\n",
       "    </tr>\n",
       "  </tbody>\n",
       "</table>\n",
       "<p>924 rows × 2 columns</p>\n",
       "</div>"
      ],
      "text/plain": [
       "         Gender   Platform\n",
       "0        Female  Instagram\n",
       "1          Male    Twitter\n",
       "2    Non-binary   Facebook\n",
       "3        Female  Instagram\n",
       "4          Male   LinkedIn\n",
       "..          ...        ...\n",
       "919  Non-binary    Twitter\n",
       "920      Female   Facebook\n",
       "921        Male   Whatsapp\n",
       "922  Non-binary   Telegram\n",
       "923      Female   Snapchat\n",
       "\n",
       "[924 rows x 2 columns]"
      ]
     },
     "execution_count": 4,
     "metadata": {},
     "output_type": "execute_result"
    }
   ],
   "source": [
    "# First Analysis gender vs Platform\n",
    "\n",
    "zln_analysis_1_df= social_data[[\"Gender\", \"Platform\"]]\n",
    "zln_analysis_1_df"
   ]
  },
  {
   "cell_type": "code",
   "execution_count": 6,
   "metadata": {},
   "outputs": [
    {
     "data": {
      "image/png": "[encoded data removed]",
      "text/plain": [
       "<Figure size 1000x600 with 1 Axes>"
      ]
     },
     "metadata": {},
     "output_type": "display_data"
    }
   ],
   "source": [
    "\n",
    "import matplotlib.pyplot as plt\n",
    "import seaborn as sns\n",
    "\n",
    "# Step 1: Count the occurrences of each platform by gender\n",
    "gender_platform_counts = zln_analysis_1_df.groupby(['Gender', 'Platform']).size().reset_index(name='Count')\n",
    "\n",
    "# Step 2: Set up the plot\n",
    "plt.figure(figsize=(10, 6))\n",
    "\n",
    "# Step 3: Create a bar plot\n",
    "sns.barplot(x='Platform', y='Count', hue='Gender', data=gender_platform_counts, palette='viridis')\n",
    "\n",
    "# Step 4: Add titles and labels\n",
    "plt.title('Gender vs Platform Usage', fontsize=16)\n",
    "plt.xlabel('Platform', fontsize=14)\n",
    "plt.ylabel('Count', fontsize=14)\n",
    "\n",
    "# Step 5: Rotate x-axis labels for better readability\n",
    "plt.xticks(rotation=45, ha='right', fontsize=12)\n",
    "\n",
    "# Step 6: Adjust the layout to prevent clipping\n",
    "plt.tight_layout()\n",
    "\n",
    "# Step 7: Show the plot\n",
    "# Save the plot (ensure the target directory exists)\n",
    "plt.savefig(\"../Images/gender_platform.png\")\n",
    "\n",
    "# Step 8: Show the plot\n",
    "plt.show()\n",
    "\n"
   ]
  },
  {
   "cell_type": "code",
   "execution_count": 7,
   "metadata": {},
   "outputs": [
    {
     "data": {
      "text/plain": [
       "'Twitter'"
      ]
     },
     "execution_count": 7,
     "metadata": {},
     "output_type": "execute_result"
    }
   ],
   "source": [
    "\n",
    "# Filter for male entries\n",
    "male_data = zln_analysis_1_df[zln_analysis_1_df['Gender'] == 'Male'] \n",
    "\n",
    "# Count the occurrences of each platform\n",
    "most_used_platform = male_data['Platform'].value_counts().idxmax()\n",
    "\n",
    "# Print the result\n",
    "most_used_platform"
   ]
  },
  {
   "cell_type": "code",
   "execution_count": 8,
   "metadata": {},
   "outputs": [
    {
     "data": {
      "text/plain": [
       "'Instagram'"
      ]
     },
     "execution_count": 8,
     "metadata": {},
     "output_type": "execute_result"
    }
   ],
   "source": [
    "\n",
    "\n",
    "# Filter for female entries\n",
    "female_data = zln_analysis_1_df[zln_analysis_1_df['Gender'] == 'Female'] \n",
    "\n",
    "# Count the occurrences of each platform\n",
    "most_used_platform = female_data['Platform'].value_counts().idxmax()\n",
    "\n",
    "# Print the result\n",
    "most_used_platform"
   ]
  },
  {
   "cell_type": "code",
   "execution_count": 9,
   "metadata": {},
   "outputs": [
    {
     "name": "stdout",
     "output_type": "stream",
     "text": [
      "Facebook\n"
     ]
    }
   ],
   "source": [
    "\n",
    "# Filter for Non-binary entries\n",
    "Non_binary_data = zln_analysis_1_df[zln_analysis_1_df['Gender'] == 'Non-binary'] \n",
    "\n",
    "# Count the occurrences of each platform\n",
    "most_used_platform = Non_binary_data['Platform'].value_counts().idxmax()\n",
    "\n",
    "# Print the result\n",
    "print(most_used_platform)"
   ]
  },
  {
   "cell_type": "code",
   "execution_count": 10,
   "metadata": {},
   "outputs": [
    {
     "data": {
      "text/html": [
       "<div>\n",
       "<style scoped>\n",
       "    .dataframe tbody tr th:only-of-type {\n",
       "        vertical-align: middle;\n",
       "    }\n",
       "\n",
       "    .dataframe tbody tr th {\n",
       "        vertical-align: top;\n",
       "    }\n",
       "\n",
       "    .dataframe thead th {\n",
       "        text-align: right;\n",
       "    }\n",
       "</style>\n",
       "<table border=\"1\" class=\"dataframe\">\n",
       "  <thead>\n",
       "    <tr style=\"text-align: right;\">\n",
       "      <th></th>\n",
       "      <th>Age</th>\n",
       "      <th>Platform</th>\n",
       "    </tr>\n",
       "  </thead>\n",
       "  <tbody>\n",
       "    <tr>\n",
       "      <th>0</th>\n",
       "      <td>25</td>\n",
       "      <td>Instagram</td>\n",
       "    </tr>\n",
       "    <tr>\n",
       "      <th>1</th>\n",
       "      <td>30</td>\n",
       "      <td>Twitter</td>\n",
       "    </tr>\n",
       "    <tr>\n",
       "      <th>2</th>\n",
       "      <td>22</td>\n",
       "      <td>Facebook</td>\n",
       "    </tr>\n",
       "    <tr>\n",
       "      <th>3</th>\n",
       "      <td>28</td>\n",
       "      <td>Instagram</td>\n",
       "    </tr>\n",
       "    <tr>\n",
       "      <th>4</th>\n",
       "      <td>33</td>\n",
       "      <td>LinkedIn</td>\n",
       "    </tr>\n",
       "    <tr>\n",
       "      <th>...</th>\n",
       "      <td>...</td>\n",
       "      <td>...</td>\n",
       "    </tr>\n",
       "    <tr>\n",
       "      <th>919</th>\n",
       "      <td>33</td>\n",
       "      <td>Twitter</td>\n",
       "    </tr>\n",
       "    <tr>\n",
       "      <th>920</th>\n",
       "      <td>22</td>\n",
       "      <td>Facebook</td>\n",
       "    </tr>\n",
       "    <tr>\n",
       "      <th>921</th>\n",
       "      <td>35</td>\n",
       "      <td>Whatsapp</td>\n",
       "    </tr>\n",
       "    <tr>\n",
       "      <th>922</th>\n",
       "      <td>28</td>\n",
       "      <td>Telegram</td>\n",
       "    </tr>\n",
       "    <tr>\n",
       "      <th>923</th>\n",
       "      <td>27</td>\n",
       "      <td>Snapchat</td>\n",
       "    </tr>\n",
       "  </tbody>\n",
       "</table>\n",
       "<p>924 rows × 2 columns</p>\n",
       "</div>"
      ],
      "text/plain": [
       "     Age   Platform\n",
       "0     25  Instagram\n",
       "1     30    Twitter\n",
       "2     22   Facebook\n",
       "3     28  Instagram\n",
       "4     33   LinkedIn\n",
       "..   ...        ...\n",
       "919   33    Twitter\n",
       "920   22   Facebook\n",
       "921   35   Whatsapp\n",
       "922   28   Telegram\n",
       "923   27   Snapchat\n",
       "\n",
       "[924 rows x 2 columns]"
      ]
     },
     "execution_count": 10,
     "metadata": {},
     "output_type": "execute_result"
    }
   ],
   "source": [
    "# Second Anaylsis Age vs Platform\n",
    "\n",
    "zln_analysis_2_df= social_data[[\"Age\",  \"Platform\"]]\n",
    "zln_analysis_2_df"
   ]
  },
  {
   "cell_type": "code",
   "execution_count": 11,
   "metadata": {},
   "outputs": [
    {
     "data": {
      "image/png": "[encoded data removed]",
      "text/plain": [
       "<Figure size 1200x600 with 1 Axes>"
      ]
     },
     "metadata": {},
     "output_type": "display_data"
    }
   ],
   "source": [
    "\n",
    "# Step 1: Count the occurrences of each platform for every age group\n",
    "age_platform_counts = zln_analysis_2_df.groupby(['Age', 'Platform']).size().reset_index(name='Count')\n",
    "\n",
    "# Step 2: Set up the plot\n",
    "plt.figure(figsize=(12, 6))\n",
    "\n",
    "# Step 3: Create the bar plot\n",
    "sns.barplot(x='Age', y='Count', hue='Platform', data=age_platform_counts, palette='Set2')\n",
    "\n",
    "# Step 4: Add titles and labels\n",
    "plt.title('Platform Usage by Age', fontsize=16)\n",
    "plt.xlabel('Age', fontsize=14)\n",
    "plt.ylabel('Count', fontsize=14)\n",
    "\n",
    "# Step 5: Rotate x-axis labels for better readability (if needed)\n",
    "plt.xticks(rotation=45)\n",
    "\n",
    "# Step 6: Adjust layout to prevent clipping\n",
    "plt.tight_layout()\n",
    "\n",
    "# Step 7: Show the plot\n",
    "plt.savefig(\"../Images/age_platform.png\")\n",
    "plt.show()\n"
   ]
  },
  {
   "cell_type": "code",
   "execution_count": 12,
   "metadata": {},
   "outputs": [
    {
     "data": {
      "text/plain": [
       "27.5"
      ]
     },
     "execution_count": 12,
     "metadata": {},
     "output_type": "execute_result"
    }
   ],
   "source": [
    "avg_age= zln_analysis_2_df[\"Age\"].mean()\n",
    "avg_age"
   ]
  },
  {
   "cell_type": "code",
   "execution_count": 13,
   "metadata": {},
   "outputs": [
    {
     "data": {
      "text/plain": [
       "'Twitter'"
      ]
     },
     "execution_count": 13,
     "metadata": {},
     "output_type": "execute_result"
    }
   ],
   "source": [
    "\n",
    "# Filter for male entries\n",
    "data_27= zln_analysis_2_df[zln_analysis_2_df['Age'] == 27] \n",
    "\n",
    "# Count the occurrences of each platform\n",
    "most_used_platform = data_27['Platform'].value_counts().idxmax()\n",
    "\n",
    "# Print the result\n",
    "most_used_platform"
   ]
  },
  {
   "cell_type": "code",
   "execution_count": 14,
   "metadata": {},
   "outputs": [
    {
     "data": {
      "text/plain": [
       "'Instagram'"
      ]
     },
     "execution_count": 14,
     "metadata": {},
     "output_type": "execute_result"
    }
   ],
   "source": [
    "\n",
    "# Filter for male entries\n",
    "data_28= zln_analysis_2_df[zln_analysis_2_df['Age'] == 28] \n",
    "\n",
    "# Count the occurrences of each platform\n",
    "most_used_platform = data_28['Platform'].value_counts().idxmax()\n",
    "\n",
    "# Print the result\n",
    "most_used_platform"
   ]
  },
  {
   "cell_type": "code",
   "execution_count": 15,
   "metadata": {},
   "outputs": [
    {
     "data": {
      "text/plain": [
       "'Twitter'"
      ]
     },
     "execution_count": 15,
     "metadata": {},
     "output_type": "execute_result"
    }
   ],
   "source": [
    "\n",
    "# Filter for female entries\n",
    "data_27= zln_analysis_2_df[zln_analysis_2_df['Age'] == 27] \n",
    "\n",
    "# Count the occurrences of each platform\n",
    "most_used_platform = data_27['Platform'].value_counts().idxmax()\n",
    "\n",
    "# Print the result\n",
    "most_used_platform"
   ]
  },
  {
   "cell_type": "code",
   "execution_count": 16,
   "metadata": {},
   "outputs": [
    {
     "data": {
      "text/plain": [
       "'Instagram'"
      ]
     },
     "execution_count": 16,
     "metadata": {},
     "output_type": "execute_result"
    }
   ],
   "source": [
    "# Filter for female entries\n",
    "data_28= zln_analysis_2_df[zln_analysis_2_df['Age'] == 28] \n",
    "\n",
    "# Count the occurrences of each platform\n",
    "most_used_platform = data_28['Platform'].value_counts().idxmax()\n",
    "\n",
    "# Print the result\n",
    "most_used_platform"
   ]
  },
  {
   "cell_type": "code",
   "execution_count": 18,
   "metadata": {},
   "outputs": [
    {
     "data": {
      "text/plain": [
       "'Twitter'"
      ]
     },
     "execution_count": 18,
     "metadata": {},
     "output_type": "execute_result"
    }
   ],
   "source": [
    "\n",
    "# Filter for  Non-binary entries\n",
    "data_27= zln_analysis_2_df[zln_analysis_2_df['Age'] == 27] \n",
    "\n",
    "# Count the occurrences of each platform\n",
    "most_used_platform = data_27['Platform'].value_counts().idxmax()\n",
    "\n",
    "# Print the result\n",
    "most_used_platform"
   ]
  },
  {
   "cell_type": "code",
   "execution_count": null,
   "metadata": {},
   "outputs": [
    {
     "data": {
      "text/plain": [
       "'Instagram'"
      ]
     },
     "execution_count": 61,
     "metadata": {},
     "output_type": "execute_result"
    }
   ],
   "source": [
    "\n",
    "# Filter for  Non-binary entries\n",
    "data_27= zln_analysis_2_df[zln_analysis_2_df['Age'] == 28] \n",
    "\n",
    "# Count the occurrences of each platform\n",
    "most_used_platform = data_27['Platform'].value_counts().idxmax()\n",
    "\n",
    "# Print the result\n",
    "most_used_platform"
   ]
  },
  {
   "cell_type": "code",
   "execution_count": 19,
   "metadata": {},
   "outputs": [
    {
     "data": {
      "text/html": [
       "<div>\n",
       "<style scoped>\n",
       "    .dataframe tbody tr th:only-of-type {\n",
       "        vertical-align: middle;\n",
       "    }\n",
       "\n",
       "    .dataframe tbody tr th {\n",
       "        vertical-align: top;\n",
       "    }\n",
       "\n",
       "    .dataframe thead th {\n",
       "        text-align: right;\n",
       "    }\n",
       "</style>\n",
       "<table border=\"1\" class=\"dataframe\">\n",
       "  <thead>\n",
       "    <tr style=\"text-align: right;\">\n",
       "      <th></th>\n",
       "      <th>Gender</th>\n",
       "      <th>Age</th>\n",
       "      <th>Platform</th>\n",
       "    </tr>\n",
       "  </thead>\n",
       "  <tbody>\n",
       "    <tr>\n",
       "      <th>0</th>\n",
       "      <td>Female</td>\n",
       "      <td>25</td>\n",
       "      <td>Instagram</td>\n",
       "    </tr>\n",
       "    <tr>\n",
       "      <th>1</th>\n",
       "      <td>Male</td>\n",
       "      <td>30</td>\n",
       "      <td>Twitter</td>\n",
       "    </tr>\n",
       "    <tr>\n",
       "      <th>2</th>\n",
       "      <td>Non-binary</td>\n",
       "      <td>22</td>\n",
       "      <td>Facebook</td>\n",
       "    </tr>\n",
       "    <tr>\n",
       "      <th>3</th>\n",
       "      <td>Female</td>\n",
       "      <td>28</td>\n",
       "      <td>Instagram</td>\n",
       "    </tr>\n",
       "    <tr>\n",
       "      <th>4</th>\n",
       "      <td>Male</td>\n",
       "      <td>33</td>\n",
       "      <td>LinkedIn</td>\n",
       "    </tr>\n",
       "    <tr>\n",
       "      <th>...</th>\n",
       "      <td>...</td>\n",
       "      <td>...</td>\n",
       "      <td>...</td>\n",
       "    </tr>\n",
       "    <tr>\n",
       "      <th>919</th>\n",
       "      <td>Non-binary</td>\n",
       "      <td>33</td>\n",
       "      <td>Twitter</td>\n",
       "    </tr>\n",
       "    <tr>\n",
       "      <th>920</th>\n",
       "      <td>Female</td>\n",
       "      <td>22</td>\n",
       "      <td>Facebook</td>\n",
       "    </tr>\n",
       "    <tr>\n",
       "      <th>921</th>\n",
       "      <td>Male</td>\n",
       "      <td>35</td>\n",
       "      <td>Whatsapp</td>\n",
       "    </tr>\n",
       "    <tr>\n",
       "      <th>922</th>\n",
       "      <td>Non-binary</td>\n",
       "      <td>28</td>\n",
       "      <td>Telegram</td>\n",
       "    </tr>\n",
       "    <tr>\n",
       "      <th>923</th>\n",
       "      <td>Female</td>\n",
       "      <td>27</td>\n",
       "      <td>Snapchat</td>\n",
       "    </tr>\n",
       "  </tbody>\n",
       "</table>\n",
       "<p>924 rows × 3 columns</p>\n",
       "</div>"
      ],
      "text/plain": [
       "         Gender  Age   Platform\n",
       "0        Female   25  Instagram\n",
       "1          Male   30    Twitter\n",
       "2    Non-binary   22   Facebook\n",
       "3        Female   28  Instagram\n",
       "4          Male   33   LinkedIn\n",
       "..          ...  ...        ...\n",
       "919  Non-binary   33    Twitter\n",
       "920      Female   22   Facebook\n",
       "921        Male   35   Whatsapp\n",
       "922  Non-binary   28   Telegram\n",
       "923      Female   27   Snapchat\n",
       "\n",
       "[924 rows x 3 columns]"
      ]
     },
     "execution_count": 19,
     "metadata": {},
     "output_type": "execute_result"
    }
   ],
   "source": [
    "# Third Analysis gender, age, platform\n",
    "zln_analysis_3_df = social_data[[\"Gender\", \"Age\", \"Platform\"]]\n",
    "zln_analysis_3_df "
   ]
  },
  {
   "cell_type": "code",
   "execution_count": 20,
   "metadata": {},
   "outputs": [
    {
     "data": {
      "image/png": "[encoded data removed]",
      "text/plain": [
       "<Figure size 1600x600 with 1 Axes>"
      ]
     },
     "metadata": {},
     "output_type": "display_data"
    }
   ],
   "source": [
    "\n",
    "# Step 1: Group the data by Gender, Age, and Platform and count the occurrences\n",
    "gender_age_platform_counts = zln_analysis_3_df.groupby(['Age', 'Platform', 'Gender']).size().reset_index(name='Count')\n",
    "\n",
    "# Step 2: Set up the figure for the bar chart\n",
    "plt.figure(figsize=(16, 6))\n",
    "\n",
    "# Step 3: Create the bar plot\n",
    "sns.barplot(x='Age', y='Count', hue='Gender', data=gender_age_platform_counts, palette='Set2')\n",
    "\n",
    "# Step 4: Add titles and labels\n",
    "plt.title('Gender Distribution by Age Group and Platform', fontsize=16)\n",
    "plt.xlabel('Age Group', fontsize=14)\n",
    "plt.ylabel('Count of Users', fontsize=14)\n",
    "\n",
    "# Step 5: Rotate x-axis labels for better readability (optional)\n",
    "plt.xticks(rotation=45)\n",
    "\n",
    "# Step 6: Adjust layout to prevent clipping\n",
    "plt.tight_layout()\n",
    "\n",
    "# Step 7: Show the plot\n",
    "plt.savefig(\"../Images/gender_age_and_platform.png\")\n",
    "plt.show()\n",
    "\n",
    "\n",
    "\n"
   ]
  },
  {
   "cell_type": "code",
   "execution_count": 21,
   "metadata": {},
   "outputs": [
    {
     "name": "stdout",
     "output_type": "stream",
     "text": [
      "The most used platform by women aged 27 is: Twitter\n"
     ]
    }
   ],
   "source": [
    "# Filter for female entries\n",
    "female_data = zln_analysis_3_df[zln_analysis_3_df['Gender'] == 'Female']\n",
    "\n",
    "# Filter for females aged 27\n",
    "female_27_data = female_data[female_data['Age'] == 27]\n",
    "\n",
    "# Calculate the most used platform by counting occurrences\n",
    "most_used_platform = female_27_data['Platform'].value_counts().idxmax()\n",
    "\n",
    "# Display the result\n",
    "print(f\"The most used platform by women aged 27 is: {most_used_platform}\")\n"
   ]
  },
  {
   "cell_type": "code",
   "execution_count": 22,
   "metadata": {},
   "outputs": [
    {
     "name": "stdout",
     "output_type": "stream",
     "text": [
      "The most used platform by women aged 28 is: Instagram\n"
     ]
    }
   ],
   "source": [
    "# Filter for female entries\n",
    "female_data = zln_analysis_3_df[zln_analysis_3_df['Gender'] == 'Female']\n",
    "\n",
    "# Filter for females aged 27\n",
    "female_27_data = female_data[female_data['Age'] == 28]\n",
    "\n",
    "# Calculate the most used platform by counting occurrences\n",
    "most_used_platform = female_27_data['Platform'].value_counts().idxmax()\n",
    "\n",
    "# Display the result\n",
    "print(f\"The most used platform by women aged 28 is: {most_used_platform}\")"
   ]
  },
  {
   "cell_type": "code",
   "execution_count": 23,
   "metadata": {},
   "outputs": [
    {
     "name": "stdout",
     "output_type": "stream",
     "text": [
      "The most used platform by men aged 27 is: Twitter\n"
     ]
    }
   ],
   "source": [
    "# Filter for male entries\n",
    "male_data = zln_analysis_3_df[zln_analysis_3_df['Gender'] == 'Male']\n",
    "\n",
    "# Filter for males aged 27\n",
    "male_data_27 = male_data[male_data['Age'] == 27]\n",
    "\n",
    "# Calculate the most used platform by counting occurrences\n",
    "most_used_platform = male_data_27['Platform'].value_counts().idxmax()\n",
    "\n",
    "# Display the result\n",
    "print(f\"The most used platform by men aged 27 is: {most_used_platform}\")\n"
   ]
  },
  {
   "cell_type": "code",
   "execution_count": 24,
   "metadata": {},
   "outputs": [
    {
     "name": "stdout",
     "output_type": "stream",
     "text": [
      "The most used platform by men aged 28 is: Instagram\n"
     ]
    }
   ],
   "source": [
    "# Filter for male entries\n",
    "male_data = zln_analysis_3_df[zln_analysis_3_df['Gender'] == 'Male']\n",
    "\n",
    "# Filter for males aged 27\n",
    "male_data_27 = male_data[male_data['Age'] == 28]\n",
    "\n",
    "# Calculate the most used platform by counting occurrences\n",
    "most_used_platform = male_data_27['Platform'].value_counts().idxmax()\n",
    "\n",
    "# Display the result\n",
    "print(f\"The most used platform by men aged 28 is: {most_used_platform}\")"
   ]
  },
  {
   "cell_type": "code",
   "execution_count": 25,
   "metadata": {},
   "outputs": [
    {
     "name": "stdout",
     "output_type": "stream",
     "text": [
      "The most used platform by non-binary aged 27 is: LinkedIn\n"
     ]
    }
   ],
   "source": [
    "# Filter for non-binary entries\n",
    "non_binary_data = zln_analysis_3_df[zln_analysis_3_df['Gender'] == 'Non-binary']\n",
    "\n",
    "# Calculate the average age of non-binary individuals\n",
    "average_age = non_binary_data['Age'].mean()\n",
    "\n",
    "# Filter for non-binary individuals at the average age\n",
    "non_binary_average_age_data = non_binary_data[non_binary_data['Age'] == 27]\n",
    "\n",
    "# Calculate the most used platform by counting occurrences\n",
    "most_used_platform = non_binary_average_age_data['Platform'].value_counts().idxmax()\n",
    "\n",
    "# Display the result\n",
    "print(f\"The most used platform by non-binary aged 27 is: {most_used_platform}\")"
   ]
  },
  {
   "cell_type": "code",
   "execution_count": 26,
   "metadata": {},
   "outputs": [
    {
     "name": "stdout",
     "output_type": "stream",
     "text": [
      "The most used platform by non-binary aged 28 is: Facebook\n"
     ]
    }
   ],
   "source": [
    "# Filter for non-binary entries\n",
    "non_binary_data = zln_analysis_3_df[zln_analysis_3_df['Gender'] == 'Non-binary']\n",
    "\n",
    "# Calculate the average age of non-binary individuals\n",
    "average_age = non_binary_data['Age'].mean()\n",
    "\n",
    "# Filter for non-binary individuals at the average age\n",
    "non_binary_average_age_data = non_binary_data[non_binary_data['Age'] == 28]\n",
    "\n",
    "# Calculate the most used platform by counting occurrences\n",
    "most_used_platform = non_binary_average_age_data['Platform'].value_counts().idxmax()\n",
    "\n",
    "# Display the result\n",
    "print(f\"The most used platform by non-binary aged 28 is: {most_used_platform}\")"
   ]
  }
 ],
 "metadata": {
  "kernelspec": {
   "display_name": "base",
   "language": "python",
   "name": "python3"
  },
  "language_info": {
   "codemirror_mode": {
    "name": "ipython",
    "version": 3
   },
   "file_extension": ".py",
   "mimetype": "text/x-python",
   "name": "python",
   "nbconvert_exporter": "python",
   "pygments_lexer": "ipython3",
   "version": "3.12.4"
  }
 },
 "nbformat": 4,
 "nbformat_minor": 2
}
