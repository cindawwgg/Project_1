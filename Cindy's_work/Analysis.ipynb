{
 "cells": [
  {
   "cell_type": "code",
   "execution_count": 1,
   "metadata": {},
   "outputs": [],
   "source": [
    "from pathlib import Path\n",
    "import pandas as pd \n",
    "import matplotlib.pyplot as plt\n",
    "import pandas as pd\n",
    "import scipy.stats as st\n",
    "from scipy.stats import linregress"
   ]
  },
  {
   "cell_type": "code",
   "execution_count": 2,
   "metadata": {},
   "outputs": [
    {
     "data": {
      "text/html": [
       "<div>\n",
       "<style scoped>\n",
       "    .dataframe tbody tr th:only-of-type {\n",
       "        vertical-align: middle;\n",
       "    }\n",
       "\n",
       "    .dataframe tbody tr th {\n",
       "        vertical-align: top;\n",
       "    }\n",
       "\n",
       "    .dataframe thead th {\n",
       "        text-align: right;\n",
       "    }\n",
       "</style>\n",
       "<table border=\"1\" class=\"dataframe\">\n",
       "  <thead>\n",
       "    <tr style=\"text-align: right;\">\n",
       "      <th></th>\n",
       "      <th>User_ID</th>\n",
       "      <th>Age</th>\n",
       "      <th>Gender</th>\n",
       "      <th>Platform</th>\n",
       "      <th>Daily_Usage_Time (minutes)</th>\n",
       "      <th>Posts_Per_Day</th>\n",
       "      <th>Likes_Received_Per_Day</th>\n",
       "      <th>Comments_Received_Per_Day</th>\n",
       "      <th>Messages_Sent_Per_Day</th>\n",
       "      <th>Dominant_Emotion</th>\n",
       "    </tr>\n",
       "  </thead>\n",
       "  <tbody>\n",
       "    <tr>\n",
       "      <th>0</th>\n",
       "      <td>1</td>\n",
       "      <td>25</td>\n",
       "      <td>Female</td>\n",
       "      <td>Instagram</td>\n",
       "      <td>120</td>\n",
       "      <td>3</td>\n",
       "      <td>45</td>\n",
       "      <td>10</td>\n",
       "      <td>12</td>\n",
       "      <td>Happiness</td>\n",
       "    </tr>\n",
       "    <tr>\n",
       "      <th>1</th>\n",
       "      <td>2</td>\n",
       "      <td>30</td>\n",
       "      <td>Male</td>\n",
       "      <td>Twitter</td>\n",
       "      <td>90</td>\n",
       "      <td>5</td>\n",
       "      <td>20</td>\n",
       "      <td>25</td>\n",
       "      <td>30</td>\n",
       "      <td>Anger</td>\n",
       "    </tr>\n",
       "    <tr>\n",
       "      <th>2</th>\n",
       "      <td>3</td>\n",
       "      <td>22</td>\n",
       "      <td>Non-binary</td>\n",
       "      <td>Facebook</td>\n",
       "      <td>60</td>\n",
       "      <td>2</td>\n",
       "      <td>15</td>\n",
       "      <td>5</td>\n",
       "      <td>20</td>\n",
       "      <td>Neutral</td>\n",
       "    </tr>\n",
       "    <tr>\n",
       "      <th>3</th>\n",
       "      <td>4</td>\n",
       "      <td>28</td>\n",
       "      <td>Female</td>\n",
       "      <td>Instagram</td>\n",
       "      <td>200</td>\n",
       "      <td>8</td>\n",
       "      <td>100</td>\n",
       "      <td>30</td>\n",
       "      <td>50</td>\n",
       "      <td>Anxiety</td>\n",
       "    </tr>\n",
       "    <tr>\n",
       "      <th>4</th>\n",
       "      <td>5</td>\n",
       "      <td>33</td>\n",
       "      <td>Male</td>\n",
       "      <td>LinkedIn</td>\n",
       "      <td>45</td>\n",
       "      <td>1</td>\n",
       "      <td>5</td>\n",
       "      <td>2</td>\n",
       "      <td>10</td>\n",
       "      <td>Boredom</td>\n",
       "    </tr>\n",
       "  </tbody>\n",
       "</table>\n",
       "</div>"
      ],
      "text/plain": [
       "   User_ID  Age      Gender   Platform  Daily_Usage_Time (minutes)  \\\n",
       "0        1   25      Female  Instagram                         120   \n",
       "1        2   30        Male    Twitter                          90   \n",
       "2        3   22  Non-binary   Facebook                          60   \n",
       "3        4   28      Female  Instagram                         200   \n",
       "4        5   33        Male   LinkedIn                          45   \n",
       "\n",
       "   Posts_Per_Day  Likes_Received_Per_Day  Comments_Received_Per_Day  \\\n",
       "0              3                      45                         10   \n",
       "1              5                      20                         25   \n",
       "2              2                      15                          5   \n",
       "3              8                     100                         30   \n",
       "4              1                       5                          2   \n",
       "\n",
       "   Messages_Sent_Per_Day Dominant_Emotion  \n",
       "0                     12        Happiness  \n",
       "1                     30            Anger  \n",
       "2                     20          Neutral  \n",
       "3                     50          Anxiety  \n",
       "4                     10          Boredom  "
      ]
     },
     "execution_count": 2,
     "metadata": {},
     "output_type": "execute_result"
    }
   ],
   "source": [
    "# Study data files\n",
    "path = \"../Jennifer's_work/Clean_CSV.csv\"\n",
    "\n",
    "# Read data and the study results\n",
    "data = pd.read_csv(path)\n",
    "data.head() "
   ]
  },
  {
   "cell_type": "markdown",
   "metadata": {},
   "source": [
    "Analysis over Age and Time spent"
   ]
  },
  {
   "cell_type": "code",
   "execution_count": 3,
   "metadata": {},
   "outputs": [
    {
     "data": {
      "text/plain": [
       "96.30952380952381"
      ]
     },
     "execution_count": 3,
     "metadata": {},
     "output_type": "execute_result"
    }
   ],
   "source": [
    "# Calculate what the average overall usage time is \n",
    "overall_avg_time = data['Daily_Usage_Time (minutes)'].mean()\n",
    "overall_avg_time"
   ]
  },
  {
   "cell_type": "code",
   "execution_count": 4,
   "metadata": {},
   "outputs": [
    {
     "name": "stdout",
     "output_type": "stream",
     "text": [
      "[21, 22, 23, 24, 25, 26, 27, 28, 29, 30, 31, 32, 33, 34, 35]\n",
      "15\n"
     ]
    }
   ],
   "source": [
    "#get the range of ages in the 'Age' column\n",
    "ages = data['Age'].unique()\n",
    "ages_sorted = sorted(ages)\n",
    "age_amount = len(ages)\n",
    "print(ages_sorted)\n",
    "print(age_amount)"
   ]
  },
  {
   "cell_type": "code",
   "execution_count": 6,
   "metadata": {},
   "outputs": [
    {
     "name": "stdout",
     "output_type": "stream",
     "text": [
      "y = 0.81x + 74.13\n"
     ]
    },
    {
     "data": {
      "image/png": "[encoded data removed]",
      "text/plain": [
       "<Figure size 640x480 with 1 Axes>"
      ]
     },
     "metadata": {},
     "output_type": "display_data"
    }
   ],
   "source": [
    "#Create a scatter chart to display time spent on social media by age\n",
    "x = data['Age']\n",
    "y = data['Daily_Usage_Time (minutes)']\n",
    "plt.scatter(x,y,color='red',marker= 'o',edgecolors='black')\n",
    "plt.xlabel('Age')\n",
    "plt.ylabel('Time Spent (in minutes)')\n",
    "plt.title('Time Spent (in minutes) on Social Media by Age')\n",
    "#Generate a regression analysis and plot the best fit line for the graph\n",
    "(slope,intercept,rvalue,pvalue,std) = linregress(x,y)\n",
    "regress_values = x * slope + intercept\n",
    "line_eq = \"y = \" + str(round(slope,2)) + \"x + \" + str(round(intercept,2))\n",
    "print(line_eq)\n",
    "plt.plot(x,regress_values,'r-')\n",
    "plt.annotate(line_eq,(0,0),fontsize=15,color=\"red\")\n",
    "plt.grid(True)\n",
    "plt.savefig(\"../Images/Exhibits-Cindy/age_time_scatter.png\")"
   ]
  },
  {
   "cell_type": "code",
   "execution_count": 7,
   "metadata": {},
   "outputs": [
    {
     "data": {
      "text/plain": [
       "PearsonRResult(statistic=0.08103752169850877, pvalue=0.013737831278319346)"
      ]
     },
     "execution_count": 7,
     "metadata": {},
     "output_type": "execute_result"
    }
   ],
   "source": [
    "#Run a correlation on age and time spent using pearson r\n",
    "correlation = st.pearsonr(x,y)\n",
    "correlation"
   ]
  },
  {
   "cell_type": "code",
   "execution_count": 17,
   "metadata": {},
   "outputs": [
    {
     "name": "stdout",
     "output_type": "stream",
     "text": [
      "The average age of users is: 27.833333333333332\n",
      "The most middle age of users is: 28.0\n",
      "The most common age of users is: 0    28\n",
      "Name: Age, dtype: int64\n",
      "The youngest user is: 21\n",
      "The oldest user is: 35\n",
      "4.011630545671717\n",
      "16.093179634966354\n",
      "The lower quartile of Ages is: 25.0\n",
      "The upper quartile of Ages is: 32.0\n",
      "The interquartile range of Ages is: 7.0\n",
      "The the median of Ages is: 28.0 \n",
      "Ages below 14.5 could be outliers.\n",
      "Ages above 42.5 could be outliers.\n"
     ]
    },
    {
     "data": {
      "image/png": "[encoded data removed]",
      "text/plain": [
       "<Figure size 640x480 with 1 Axes>"
      ]
     },
     "metadata": {},
     "output_type": "display_data"
    }
   ],
   "source": [
    "#Filter for only rows where the user spent above average time on social media\n",
    "time = data.index[data['Daily_Usage_Time (minutes)'] > overall_avg_time].to_list()\n",
    "time2 = data.iloc[time]\n",
    "#Create a box plot showing the age distribution of the users who spend above average time on social media\n",
    "ages2 = time2['Age'].unique()\n",
    "ages_sorted2 = sorted(ages2)\n",
    "age_amount2 = len(ages2)\n",
    "\n",
    "time2['Age'].plot(kind='box')\n",
    "plt.ylabel('Ages of Users')\n",
    "plt.title('Age Distribution of Users (w/ above Avg Usage Time)')\n",
    "plt.grid(True)\n",
    "plt.savefig(\"../Images/Exhibits-Cindy/age_time_box.png\")\n",
    "#Generate summary statistics of the age distribution\n",
    "ages_mean = time2['Age'].mean()\n",
    "ages_median = time2['Age'].median()\n",
    "ages_mode = time2['Age'].mode()\n",
    "ages_min = time2['Age'].min()\n",
    "ages_max = time2['Age'].max()\n",
    "ages_var = time2['Age'].var()\n",
    "ages_std = time2['Age'].std()\n",
    "\n",
    "print(f'The average age of users is: {ages_mean}')\n",
    "print(f'The most middle age of users is: {ages_median}')\n",
    "print(f'The most common age of users is: {ages_mode}')\n",
    "print(f\"The youngest user is: {ages_min}\")\n",
    "print(f\"The oldest user is: {ages_max}\")\n",
    "print(ages_std)\n",
    "print(ages_var)\n",
    "\n",
    "quartiles = time2['Age'].quantile([.25,.5,.75])\n",
    "lowerq = quartiles[0.25]\n",
    "upperq = quartiles[0.75]\n",
    "iqr = upperq-lowerq\n",
    "\n",
    "print(f\"The lower quartile of Ages is: {lowerq}\")\n",
    "print(f\"The upper quartile of Ages is: {upperq}\")\n",
    "print(f\"The interquartile range of Ages is: {iqr}\")\n",
    "print(f\"The the median of Ages is: {quartiles[0.5]} \")\n",
    "\n",
    "lower_bound = lowerq - (1.5*iqr)\n",
    "upper_bound = upperq + (1.5*iqr)\n",
    "print(f\"Ages below {lower_bound} could be outliers.\")\n",
    "print(f\"Ages above {upper_bound} could be outliers.\")"
   ]
  },
  {
   "cell_type": "code",
   "execution_count": 18,
   "metadata": {},
   "outputs": [
    {
     "data": {
      "image/png": "[encoded data removed]",
      "text/plain": [
       "<Figure size 640x480 with 1 Axes>"
      ]
     },
     "metadata": {},
     "output_type": "display_data"
    }
   ],
   "source": [
    "plt.hist(time2['Age'],bins=age_amount2)\n",
    "plt.xlabel('Ages of Users')\n",
    "plt.ylabel('Frequency of Age')\n",
    "plt.title('Age Distribution of Users (w/ above Avg Usage Time)')\n",
    "plt.grid(True)\n",
    "plt.savefig(\"../Images/Exhibits-Cindy/age_time_histogram.png\")"
   ]
  },
  {
   "cell_type": "markdown",
   "metadata": {},
   "source": [
    "The remaining cells are supplemental information: Analysis over Gender and Posts, Likes, Comments and Messages"
   ]
  },
  {
   "cell_type": "code",
   "execution_count": 87,
   "metadata": {},
   "outputs": [
    {
     "name": "stdout",
     "output_type": "stream",
     "text": [
      "Gender\n",
      "Female        4.055233\n",
      "Male          3.385542\n",
      "Non-binary    2.322581\n",
      "Name: Posts_Per_Day, dtype: float64\n"
     ]
    }
   ],
   "source": [
    "#Group the data by gender and run an average on the averages of posts per day\n",
    "gender_posts = data.groupby('Gender')['Posts_Per_Day'].mean()\n",
    "print(gender_posts)\n",
    "\n"
   ]
  },
  {
   "cell_type": "code",
   "execution_count": 86,
   "metadata": {},
   "outputs": [
    {
     "name": "stdout",
     "output_type": "stream",
     "text": [
      "Gender\n",
      "Female        51.598837\n",
      "Male          40.680723\n",
      "Non-binary    23.919355\n",
      "Name: Likes_Received_Per_Day, dtype: float64\n"
     ]
    }
   ],
   "source": [
    "#Group the data by gender and run an average on the averages of likes received per day\n",
    "gender_likes = data.groupby('Gender')['Likes_Received_Per_Day'].mean()\n",
    "print(gender_likes)\n",
    "\n"
   ]
  },
  {
   "cell_type": "code",
   "execution_count": 85,
   "metadata": {},
   "outputs": [
    {
     "name": "stdout",
     "output_type": "stream",
     "text": [
      "Gender\n",
      "Female        18.834302\n",
      "Male          16.560241\n",
      "Non-binary    10.298387\n",
      "Name: Comments_Received_Per_Day, dtype: float64\n"
     ]
    }
   ],
   "source": [
    "#Group the data by gender and run an average on the averages of comments received per day\n",
    "gender_comments = data.groupby('Gender')['Comments_Received_Per_Day'].mean()\n",
    "print(gender_comments)\n",
    "\n"
   ]
  },
  {
   "cell_type": "code",
   "execution_count": 84,
   "metadata": {},
   "outputs": [
    {
     "name": "stdout",
     "output_type": "stream",
     "text": [
      "Gender\n",
      "Female        25.328488\n",
      "Male          23.256024\n",
      "Non-binary    17.919355\n",
      "Name: Messages_Sent_Per_Day, dtype: float64\n"
     ]
    }
   ],
   "source": [
    "#Group the data by gender and run an average on the averages of messages sent per day\n",
    "gender_msg = data.groupby('Gender')['Messages_Sent_Per_Day'].mean()\n",
    "print(gender_msg)\n",
    "\n"
   ]
  },
  {
   "cell_type": "markdown",
   "metadata": {},
   "source": [
    "Analysis over Age and Post, Likes, Comments, and Messages"
   ]
  },
  {
   "cell_type": "code",
   "execution_count": 24,
   "metadata": {},
   "outputs": [
    {
     "name": "stdout",
     "output_type": "stream",
     "text": [
      "Age\n",
      "21    3.232143\n",
      "22    2.824324\n",
      "23    2.583333\n",
      "24    3.437500\n",
      "25    5.187500\n",
      "26    2.696970\n",
      "27    2.956522\n",
      "28    4.195652\n",
      "29    2.133333\n",
      "30    4.562500\n",
      "31    2.612903\n",
      "32    5.184211\n",
      "33    4.285714\n",
      "34    2.388889\n",
      "35    2.552632\n",
      "Name: Posts_Per_Day, dtype: float64\n",
      "Highest Average is 5.1875\n"
     ]
    }
   ],
   "source": [
    "#Group the data by age and run an average on the averages of posts per day\n",
    "age_posts = data.groupby('Age')['Posts_Per_Day'].mean()\n",
    "print(age_posts)\n",
    "print(f'Highest Average is {age_posts.max()}')\n",
    "\n"
   ]
  },
  {
   "cell_type": "code",
   "execution_count": 83,
   "metadata": {},
   "outputs": [
    {
     "name": "stdout",
     "output_type": "stream",
     "text": [
      "Age\n",
      "21    41.500000\n",
      "22    38.324324\n",
      "23    26.500000\n",
      "24    34.281250\n",
      "25    59.468750\n",
      "26    34.454545\n",
      "27    35.630435\n",
      "28    48.717391\n",
      "29    23.155556\n",
      "30    53.583333\n",
      "31    32.532258\n",
      "32    70.447368\n",
      "33    54.339286\n",
      "34    26.222222\n",
      "35    36.447368\n",
      "Name: Likes_Received_Per_Day, dtype: float64\n",
      "Highest Average is 70.44736842105263\n"
     ]
    }
   ],
   "source": [
    "#Group the data by age and run an average on the averages of likes received per day\n",
    "age_likes = data.groupby('Age')['Likes_Received_Per_Day'].mean()\n",
    "print(age_likes)\n",
    "print(f'Highest Average is {age_likes.max()}')\n",
    "\n"
   ]
  },
  {
   "cell_type": "code",
   "execution_count": 82,
   "metadata": {},
   "outputs": [
    {
     "name": "stdout",
     "output_type": "stream",
     "text": [
      "Age\n",
      "21    13.160714\n",
      "22    14.000000\n",
      "23    11.979167\n",
      "24    16.125000\n",
      "25    20.093750\n",
      "26    13.787879\n",
      "27    14.500000\n",
      "28    19.869565\n",
      "29     9.533333\n",
      "30    22.166667\n",
      "31    13.419355\n",
      "32    25.868421\n",
      "33    19.642857\n",
      "34    10.111111\n",
      "35    15.578947\n",
      "Name: Comments_Received_Per_Day, dtype: float64\n",
      "Highest Average is 25.86842105263158\n"
     ]
    }
   ],
   "source": [
    "#Group the data by age and run an average on the averages of comments received per day\n",
    "age_comments = data.groupby('Age')['Comments_Received_Per_Day'].mean()\n",
    "print(age_comments)\n",
    "print(f'Highest Average is {age_comments.max()}')\n"
   ]
  },
  {
   "cell_type": "code",
   "execution_count": 81,
   "metadata": {},
   "outputs": [
    {
     "name": "stdout",
     "output_type": "stream",
     "text": [
      "Age\n",
      "21    19.410714\n",
      "22    22.283784\n",
      "23    18.104167\n",
      "24    20.937500\n",
      "25    27.390625\n",
      "26    20.606061\n",
      "27    19.913043\n",
      "28    27.445652\n",
      "29    18.933333\n",
      "30    27.333333\n",
      "31    21.145161\n",
      "32    30.710526\n",
      "33    27.982143\n",
      "34    18.055556\n",
      "35    19.789474\n",
      "Name: Messages_Sent_Per_Day, dtype: float64\n",
      "Highest Average is 30.710526315789473\n"
     ]
    }
   ],
   "source": [
    "#Group the data by age and run an average on the averages of messages sent per day\n",
    "age_messages = data.groupby('Age')['Messages_Sent_Per_Day'].mean()\n",
    "print(age_messages)\n",
    "print(f'Highest Average is {age_messages.max()}')\n"
   ]
  },
  {
   "cell_type": "markdown",
   "metadata": {},
   "source": [
    "Analysis over Gender and Time Spent"
   ]
  },
  {
   "cell_type": "code",
   "execution_count": 77,
   "metadata": {},
   "outputs": [
    {
     "name": "stdout",
     "output_type": "stream",
     "text": [
      "Gender\n",
      "Female        112.267442\n",
      "Male           94.819277\n",
      "Non-binary     76.169355\n",
      "Name: Daily_Usage_Time (minutes), dtype: float64\n"
     ]
    }
   ],
   "source": [
    "#Group the data by gender and calculate the usage time \n",
    "gender_usage = data.groupby('Gender')['Daily_Usage_Time (minutes)'].mean()\n",
    "print(gender_usage)\n"
   ]
  },
  {
   "cell_type": "code",
   "execution_count": 78,
   "metadata": {},
   "outputs": [
    {
     "data": {
      "text/plain": [
       "96.30952380952381"
      ]
     },
     "execution_count": 78,
     "metadata": {},
     "output_type": "execute_result"
    }
   ],
   "source": [
    "# Calculate what the average overall usage time is \n",
    "overall_avg_time = data['Daily_Usage_Time (minutes)'].mean()\n",
    "overall_avg_time"
   ]
  },
  {
   "cell_type": "markdown",
   "metadata": {},
   "source": [
    "Male Analysis"
   ]
  },
  {
   "cell_type": "code",
   "execution_count": 73,
   "metadata": {},
   "outputs": [
    {
     "data": {
      "text/html": [
       "<div>\n",
       "<style scoped>\n",
       "    .dataframe tbody tr th:only-of-type {\n",
       "        vertical-align: middle;\n",
       "    }\n",
       "\n",
       "    .dataframe tbody tr th {\n",
       "        vertical-align: top;\n",
       "    }\n",
       "\n",
       "    .dataframe thead th {\n",
       "        text-align: right;\n",
       "    }\n",
       "</style>\n",
       "<table border=\"1\" class=\"dataframe\">\n",
       "  <thead>\n",
       "    <tr style=\"text-align: right;\">\n",
       "      <th></th>\n",
       "      <th>User_ID</th>\n",
       "      <th>Age</th>\n",
       "      <th>Gender</th>\n",
       "      <th>Platform</th>\n",
       "      <th>Daily_Usage_Time (minutes)</th>\n",
       "      <th>Posts_Per_Day</th>\n",
       "      <th>Likes_Received_Per_Day</th>\n",
       "      <th>Comments_Received_Per_Day</th>\n",
       "      <th>Messages_Sent_Per_Day</th>\n",
       "      <th>Dominant_Emotion</th>\n",
       "    </tr>\n",
       "  </thead>\n",
       "  <tbody>\n",
       "    <tr>\n",
       "      <th>1</th>\n",
       "      <td>2</td>\n",
       "      <td>30</td>\n",
       "      <td>Male</td>\n",
       "      <td>Twitter</td>\n",
       "      <td>90</td>\n",
       "      <td>5</td>\n",
       "      <td>20</td>\n",
       "      <td>25</td>\n",
       "      <td>30</td>\n",
       "      <td>Anger</td>\n",
       "    </tr>\n",
       "    <tr>\n",
       "      <th>4</th>\n",
       "      <td>5</td>\n",
       "      <td>33</td>\n",
       "      <td>Male</td>\n",
       "      <td>LinkedIn</td>\n",
       "      <td>45</td>\n",
       "      <td>1</td>\n",
       "      <td>5</td>\n",
       "      <td>2</td>\n",
       "      <td>10</td>\n",
       "      <td>Boredom</td>\n",
       "    </tr>\n",
       "    <tr>\n",
       "      <th>5</th>\n",
       "      <td>6</td>\n",
       "      <td>21</td>\n",
       "      <td>Male</td>\n",
       "      <td>Instagram</td>\n",
       "      <td>150</td>\n",
       "      <td>4</td>\n",
       "      <td>60</td>\n",
       "      <td>15</td>\n",
       "      <td>25</td>\n",
       "      <td>Happiness</td>\n",
       "    </tr>\n",
       "    <tr>\n",
       "      <th>9</th>\n",
       "      <td>10</td>\n",
       "      <td>31</td>\n",
       "      <td>Male</td>\n",
       "      <td>Instagram</td>\n",
       "      <td>170</td>\n",
       "      <td>5</td>\n",
       "      <td>80</td>\n",
       "      <td>20</td>\n",
       "      <td>35</td>\n",
       "      <td>Happiness</td>\n",
       "    </tr>\n",
       "    <tr>\n",
       "      <th>12</th>\n",
       "      <td>13</td>\n",
       "      <td>34</td>\n",
       "      <td>Male</td>\n",
       "      <td>LinkedIn</td>\n",
       "      <td>65</td>\n",
       "      <td>1</td>\n",
       "      <td>12</td>\n",
       "      <td>4</td>\n",
       "      <td>15</td>\n",
       "      <td>Boredom</td>\n",
       "    </tr>\n",
       "    <tr>\n",
       "      <th>...</th>\n",
       "      <td>...</td>\n",
       "      <td>...</td>\n",
       "      <td>...</td>\n",
       "      <td>...</td>\n",
       "      <td>...</td>\n",
       "      <td>...</td>\n",
       "      <td>...</td>\n",
       "      <td>...</td>\n",
       "      <td>...</td>\n",
       "      <td>...</td>\n",
       "    </tr>\n",
       "    <tr>\n",
       "      <th>910</th>\n",
       "      <td>987</td>\n",
       "      <td>31</td>\n",
       "      <td>Male</td>\n",
       "      <td>Telegram</td>\n",
       "      <td>85</td>\n",
       "      <td>3</td>\n",
       "      <td>45</td>\n",
       "      <td>20</td>\n",
       "      <td>28</td>\n",
       "      <td>Sadness</td>\n",
       "    </tr>\n",
       "    <tr>\n",
       "      <th>913</th>\n",
       "      <td>990</td>\n",
       "      <td>30</td>\n",
       "      <td>Male</td>\n",
       "      <td>Twitter</td>\n",
       "      <td>70</td>\n",
       "      <td>2</td>\n",
       "      <td>30</td>\n",
       "      <td>12</td>\n",
       "      <td>20</td>\n",
       "      <td>Anxiety</td>\n",
       "    </tr>\n",
       "    <tr>\n",
       "      <th>916</th>\n",
       "      <td>993</td>\n",
       "      <td>24</td>\n",
       "      <td>Male</td>\n",
       "      <td>Telegram</td>\n",
       "      <td>75</td>\n",
       "      <td>3</td>\n",
       "      <td>37</td>\n",
       "      <td>16</td>\n",
       "      <td>22</td>\n",
       "      <td>Neutral</td>\n",
       "    </tr>\n",
       "    <tr>\n",
       "      <th>918</th>\n",
       "      <td>995</td>\n",
       "      <td>26</td>\n",
       "      <td>Male</td>\n",
       "      <td>Instagram</td>\n",
       "      <td>150</td>\n",
       "      <td>5</td>\n",
       "      <td>70</td>\n",
       "      <td>25</td>\n",
       "      <td>30</td>\n",
       "      <td>Anxiety</td>\n",
       "    </tr>\n",
       "    <tr>\n",
       "      <th>921</th>\n",
       "      <td>998</td>\n",
       "      <td>35</td>\n",
       "      <td>Male</td>\n",
       "      <td>Whatsapp</td>\n",
       "      <td>110</td>\n",
       "      <td>3</td>\n",
       "      <td>50</td>\n",
       "      <td>25</td>\n",
       "      <td>25</td>\n",
       "      <td>Happiness</td>\n",
       "    </tr>\n",
       "  </tbody>\n",
       "</table>\n",
       "<p>332 rows × 10 columns</p>\n",
       "</div>"
      ],
      "text/plain": [
       "     User_ID  Age Gender   Platform  Daily_Usage_Time (minutes)  \\\n",
       "1          2   30   Male    Twitter                          90   \n",
       "4          5   33   Male   LinkedIn                          45   \n",
       "5          6   21   Male  Instagram                         150   \n",
       "9         10   31   Male  Instagram                         170   \n",
       "12        13   34   Male   LinkedIn                          65   \n",
       "..       ...  ...    ...        ...                         ...   \n",
       "910      987   31   Male   Telegram                          85   \n",
       "913      990   30   Male    Twitter                          70   \n",
       "916      993   24   Male   Telegram                          75   \n",
       "918      995   26   Male  Instagram                         150   \n",
       "921      998   35   Male   Whatsapp                         110   \n",
       "\n",
       "     Posts_Per_Day  Likes_Received_Per_Day  Comments_Received_Per_Day  \\\n",
       "1                5                      20                         25   \n",
       "4                1                       5                          2   \n",
       "5                4                      60                         15   \n",
       "9                5                      80                         20   \n",
       "12               1                      12                          4   \n",
       "..             ...                     ...                        ...   \n",
       "910              3                      45                         20   \n",
       "913              2                      30                         12   \n",
       "916              3                      37                         16   \n",
       "918              5                      70                         25   \n",
       "921              3                      50                         25   \n",
       "\n",
       "     Messages_Sent_Per_Day Dominant_Emotion  \n",
       "1                       30            Anger  \n",
       "4                       10          Boredom  \n",
       "5                       25        Happiness  \n",
       "9                       35        Happiness  \n",
       "12                      15          Boredom  \n",
       "..                     ...              ...  \n",
       "910                     28          Sadness  \n",
       "913                     20          Anxiety  \n",
       "916                     22          Neutral  \n",
       "918                     30          Anxiety  \n",
       "921                     25        Happiness  \n",
       "\n",
       "[332 rows x 10 columns]"
      ]
     },
     "execution_count": 73,
     "metadata": {},
     "output_type": "execute_result"
    }
   ],
   "source": [
    "# Filtering for male entries using numeric index\n",
    "# First, find the index of male entries\n",
    "m_data = data.index[data['Gender'] == 'Male'].tolist()\n",
    "# Now, use iloc to get the rows corresponding to those indices\n",
    "male_data = data.iloc[m_data]\n",
    "male_data"
   ]
  },
  {
   "cell_type": "code",
   "execution_count": 78,
   "metadata": {},
   "outputs": [
    {
     "data": {
      "text/plain": [
       "Age\n",
       "21    4.900000\n",
       "22    1.000000\n",
       "23    3.000000\n",
       "24    3.000000\n",
       "25    4.333333\n",
       "26    3.071429\n",
       "27    3.409091\n",
       "28    6.000000\n",
       "29    2.666667\n",
       "30    4.275000\n",
       "31    2.703704\n",
       "32    5.000000\n",
       "33    1.000000\n",
       "34    1.000000\n",
       "35    2.111111\n",
       "Name: Posts_Per_Day, dtype: float64"
      ]
     },
     "execution_count": 78,
     "metadata": {},
     "output_type": "execute_result"
    }
   ],
   "source": [
    "m_data_1 = male_data.groupby('Age')['Posts_Per_Day'].mean()\n",
    "m_data_1\n"
   ]
  },
  {
   "cell_type": "code",
   "execution_count": 86,
   "metadata": {},
   "outputs": [
    {
     "data": {
      "text/plain": [
       "Age\n",
       "21    64.500000\n",
       "22    21.750000\n",
       "23    21.750000\n",
       "24    36.600000\n",
       "25    31.083333\n",
       "26    41.892857\n",
       "27    45.022727\n",
       "28    68.071429\n",
       "29    30.633333\n",
       "30    49.950000\n",
       "31    33.388889\n",
       "32    79.000000\n",
       "33     9.500000\n",
       "34    13.800000\n",
       "35    33.222222\n",
       "Name: Likes_Received_Per_Day, dtype: float64"
      ]
     },
     "execution_count": 86,
     "metadata": {},
     "output_type": "execute_result"
    }
   ],
   "source": [
    "m_data_2 = male_data.groupby('Age')['Likes_Received_Per_Day'].mean()\n",
    "m_data_2"
   ]
  },
  {
   "cell_type": "code",
   "execution_count": 88,
   "metadata": {},
   "outputs": [
    {
     "data": {
      "text/plain": [
       "Age\n",
       "21    24.000000\n",
       "22     6.750000\n",
       "23     9.750000\n",
       "24    15.700000\n",
       "25    12.458333\n",
       "26    16.964286\n",
       "27    17.318182\n",
       "28    27.214286\n",
       "29    13.400000\n",
       "30    20.775000\n",
       "31    13.962963\n",
       "32    27.100000\n",
       "33     4.700000\n",
       "34     5.800000\n",
       "35    17.111111\n",
       "Name: Comments_Received_Per_Day, dtype: float64"
      ]
     },
     "execution_count": 88,
     "metadata": {},
     "output_type": "execute_result"
    }
   ],
   "source": [
    "m_data_3 = male_data.groupby('Age')['Comments_Received_Per_Day'].mean()\n",
    "m_data_3"
   ]
  },
  {
   "cell_type": "code",
   "execution_count": 90,
   "metadata": {},
   "outputs": [
    {
     "data": {
      "text/plain": [
       "Age\n",
       "21    29.500000\n",
       "22    22.000000\n",
       "23    18.000000\n",
       "24    22.000000\n",
       "25    24.333333\n",
       "26    22.928571\n",
       "27    23.727273\n",
       "28    32.821429\n",
       "29    19.666667\n",
       "30    26.200000\n",
       "31    21.314815\n",
       "32    31.000000\n",
       "33    11.800000\n",
       "34    15.000000\n",
       "35    18.333333\n",
       "Name: Messages_Sent_Per_Day, dtype: float64"
      ]
     },
     "execution_count": 90,
     "metadata": {},
     "output_type": "execute_result"
    }
   ],
   "source": [
    "m_data_4 = male_data.groupby('Age')['Messages_Sent_Per_Day'].mean()\n",
    "m_data_4"
   ]
  },
  {
   "cell_type": "code",
   "execution_count": 36,
   "metadata": {},
   "outputs": [],
   "source": [
    "# Gather statistical information over the male population as a whole (total posts per day, total likes received per day, comments received per day, messages sent per day )\n",
    "m_posts = male_data['Posts_Per_Day'].describe()\n",
    "m_likes = male_data['Likes_Received_Per_Day'].describe()\n",
    "m_comments = male_data['Comments_Received_Per_Day'].describe()\n",
    "m_messsages = male_data['Messages_Sent_Per_Day'].describe()\n",
    "\n",
    "m_posts_median = male_data['Posts_Per_Day'].median()\n",
    "m_likes_median = male_data['Likes_Received_Per_Day'].median()\n",
    "m_comments_median = male_data['Comments_Received_Per_Day'].median()\n",
    "m_messsages_median = male_data['Messages_Sent_Per_Day'].median()\n",
    "\n",
    "m_posts_mode = male_data['Posts_Per_Day'].mode()\n",
    "m_likes_mode = male_data['Likes_Received_Per_Day'].mode()\n",
    "m_comments_mode = male_data['Comments_Received_Per_Day'].mode()\n",
    "m_messsages_mode = male_data['Messages_Sent_Per_Day'].mode()"
   ]
  },
  {
   "cell_type": "markdown",
   "metadata": {},
   "source": [
    "Female Analysis "
   ]
  },
  {
   "cell_type": "code",
   "execution_count": 41,
   "metadata": {},
   "outputs": [
    {
     "data": {
      "text/html": [
       "<div>\n",
       "<style scoped>\n",
       "    .dataframe tbody tr th:only-of-type {\n",
       "        vertical-align: middle;\n",
       "    }\n",
       "\n",
       "    .dataframe tbody tr th {\n",
       "        vertical-align: top;\n",
       "    }\n",
       "\n",
       "    .dataframe thead th {\n",
       "        text-align: right;\n",
       "    }\n",
       "</style>\n",
       "<table border=\"1\" class=\"dataframe\">\n",
       "  <thead>\n",
       "    <tr style=\"text-align: right;\">\n",
       "      <th></th>\n",
       "      <th>User_ID</th>\n",
       "      <th>Age</th>\n",
       "      <th>Gender</th>\n",
       "      <th>Platform</th>\n",
       "      <th>Daily_Usage_Time (minutes)</th>\n",
       "      <th>Posts_Per_Day</th>\n",
       "      <th>Likes_Received_Per_Day</th>\n",
       "      <th>Comments_Received_Per_Day</th>\n",
       "      <th>Messages_Sent_Per_Day</th>\n",
       "      <th>Dominant_Emotion</th>\n",
       "    </tr>\n",
       "  </thead>\n",
       "  <tbody>\n",
       "    <tr>\n",
       "      <th>0</th>\n",
       "      <td>1</td>\n",
       "      <td>25</td>\n",
       "      <td>Female</td>\n",
       "      <td>Instagram</td>\n",
       "      <td>120</td>\n",
       "      <td>3</td>\n",
       "      <td>45</td>\n",
       "      <td>10</td>\n",
       "      <td>12</td>\n",
       "      <td>Happiness</td>\n",
       "    </tr>\n",
       "    <tr>\n",
       "      <th>3</th>\n",
       "      <td>4</td>\n",
       "      <td>28</td>\n",
       "      <td>Female</td>\n",
       "      <td>Instagram</td>\n",
       "      <td>200</td>\n",
       "      <td>8</td>\n",
       "      <td>100</td>\n",
       "      <td>30</td>\n",
       "      <td>50</td>\n",
       "      <td>Anxiety</td>\n",
       "    </tr>\n",
       "    <tr>\n",
       "      <th>6</th>\n",
       "      <td>7</td>\n",
       "      <td>27</td>\n",
       "      <td>Female</td>\n",
       "      <td>Twitter</td>\n",
       "      <td>85</td>\n",
       "      <td>3</td>\n",
       "      <td>30</td>\n",
       "      <td>10</td>\n",
       "      <td>18</td>\n",
       "      <td>Anger</td>\n",
       "    </tr>\n",
       "    <tr>\n",
       "      <th>8</th>\n",
       "      <td>9</td>\n",
       "      <td>29</td>\n",
       "      <td>Female</td>\n",
       "      <td>LinkedIn</td>\n",
       "      <td>55</td>\n",
       "      <td>2</td>\n",
       "      <td>10</td>\n",
       "      <td>3</td>\n",
       "      <td>8</td>\n",
       "      <td>Neutral</td>\n",
       "    </tr>\n",
       "    <tr>\n",
       "      <th>10</th>\n",
       "      <td>11</td>\n",
       "      <td>23</td>\n",
       "      <td>Female</td>\n",
       "      <td>Twitter</td>\n",
       "      <td>75</td>\n",
       "      <td>4</td>\n",
       "      <td>35</td>\n",
       "      <td>7</td>\n",
       "      <td>20</td>\n",
       "      <td>Anxiety</td>\n",
       "    </tr>\n",
       "    <tr>\n",
       "      <th>...</th>\n",
       "      <td>...</td>\n",
       "      <td>...</td>\n",
       "      <td>...</td>\n",
       "      <td>...</td>\n",
       "      <td>...</td>\n",
       "      <td>...</td>\n",
       "      <td>...</td>\n",
       "      <td>...</td>\n",
       "      <td>...</td>\n",
       "      <td>...</td>\n",
       "    </tr>\n",
       "    <tr>\n",
       "      <th>912</th>\n",
       "      <td>989</td>\n",
       "      <td>25</td>\n",
       "      <td>Female</td>\n",
       "      <td>Instagram</td>\n",
       "      <td>170</td>\n",
       "      <td>6</td>\n",
       "      <td>83</td>\n",
       "      <td>30</td>\n",
       "      <td>33</td>\n",
       "      <td>Happiness</td>\n",
       "    </tr>\n",
       "    <tr>\n",
       "      <th>915</th>\n",
       "      <td>992</td>\n",
       "      <td>32</td>\n",
       "      <td>Female</td>\n",
       "      <td>Whatsapp</td>\n",
       "      <td>105</td>\n",
       "      <td>4</td>\n",
       "      <td>55</td>\n",
       "      <td>25</td>\n",
       "      <td>25</td>\n",
       "      <td>Anger</td>\n",
       "    </tr>\n",
       "    <tr>\n",
       "      <th>917</th>\n",
       "      <td>994</td>\n",
       "      <td>29</td>\n",
       "      <td>Female</td>\n",
       "      <td>Snapchat</td>\n",
       "      <td>95</td>\n",
       "      <td>2</td>\n",
       "      <td>23</td>\n",
       "      <td>10</td>\n",
       "      <td>28</td>\n",
       "      <td>Sadness</td>\n",
       "    </tr>\n",
       "    <tr>\n",
       "      <th>920</th>\n",
       "      <td>997</td>\n",
       "      <td>22</td>\n",
       "      <td>Female</td>\n",
       "      <td>Facebook</td>\n",
       "      <td>70</td>\n",
       "      <td>1</td>\n",
       "      <td>14</td>\n",
       "      <td>6</td>\n",
       "      <td>10</td>\n",
       "      <td>Neutral</td>\n",
       "    </tr>\n",
       "    <tr>\n",
       "      <th>923</th>\n",
       "      <td>1000</td>\n",
       "      <td>27</td>\n",
       "      <td>Female</td>\n",
       "      <td>Snapchat</td>\n",
       "      <td>120</td>\n",
       "      <td>4</td>\n",
       "      <td>40</td>\n",
       "      <td>18</td>\n",
       "      <td>22</td>\n",
       "      <td>Neutral</td>\n",
       "    </tr>\n",
       "  </tbody>\n",
       "</table>\n",
       "<p>344 rows × 10 columns</p>\n",
       "</div>"
      ],
      "text/plain": [
       "     User_ID  Age  Gender   Platform  Daily_Usage_Time (minutes)  \\\n",
       "0          1   25  Female  Instagram                         120   \n",
       "3          4   28  Female  Instagram                         200   \n",
       "6          7   27  Female    Twitter                          85   \n",
       "8          9   29  Female   LinkedIn                          55   \n",
       "10        11   23  Female    Twitter                          75   \n",
       "..       ...  ...     ...        ...                         ...   \n",
       "912      989   25  Female  Instagram                         170   \n",
       "915      992   32  Female   Whatsapp                         105   \n",
       "917      994   29  Female   Snapchat                          95   \n",
       "920      997   22  Female   Facebook                          70   \n",
       "923     1000   27  Female   Snapchat                         120   \n",
       "\n",
       "     Posts_Per_Day  Likes_Received_Per_Day  Comments_Received_Per_Day  \\\n",
       "0                3                      45                         10   \n",
       "3                8                     100                         30   \n",
       "6                3                      30                         10   \n",
       "8                2                      10                          3   \n",
       "10               4                      35                          7   \n",
       "..             ...                     ...                        ...   \n",
       "912              6                      83                         30   \n",
       "915              4                      55                         25   \n",
       "917              2                      23                         10   \n",
       "920              1                      14                          6   \n",
       "923              4                      40                         18   \n",
       "\n",
       "     Messages_Sent_Per_Day Dominant_Emotion  \n",
       "0                       12        Happiness  \n",
       "3                       50          Anxiety  \n",
       "6                       18            Anger  \n",
       "8                        8          Neutral  \n",
       "10                      20          Anxiety  \n",
       "..                     ...              ...  \n",
       "912                     33        Happiness  \n",
       "915                     25            Anger  \n",
       "917                     28          Sadness  \n",
       "920                     10          Neutral  \n",
       "923                     22          Neutral  \n",
       "\n",
       "[344 rows x 10 columns]"
      ]
     },
     "execution_count": 41,
     "metadata": {},
     "output_type": "execute_result"
    }
   ],
   "source": [
    "# Filtering for female entries using numeric index\n",
    "# First, find the index of female entries\n",
    "f_data = data.index[data['Gender'] == 'Female'].tolist()\n",
    "# Now, use iloc to get the rows corresponding to those indices\n",
    "female_data = data.iloc[f_data]\n",
    "female_data"
   ]
  },
  {
   "cell_type": "code",
   "execution_count": 92,
   "metadata": {},
   "outputs": [
    {
     "data": {
      "text/plain": [
       "Age\n",
       "21    4.500000\n",
       "22    3.437500\n",
       "23    4.000000\n",
       "24    3.692308\n",
       "25    5.700000\n",
       "26    4.000000\n",
       "27    3.642857\n",
       "28    4.277778\n",
       "29    2.000000\n",
       "30    6.000000\n",
       "31    2.000000\n",
       "32    5.250000\n",
       "33    5.666667\n",
       "34    3.333333\n",
       "35    2.950000\n",
       "Name: Posts_Per_Day, dtype: float64"
      ]
     },
     "execution_count": 92,
     "metadata": {},
     "output_type": "execute_result"
    }
   ],
   "source": [
    "f_data_1 = female_data.groupby('Age')['Posts_Per_Day'].mean()\n",
    "f_data_4"
   ]
  },
  {
   "cell_type": "code",
   "execution_count": 93,
   "metadata": {},
   "outputs": [
    {
     "data": {
      "text/plain": [
       "Age\n",
       "21    65.450000\n",
       "22    47.958333\n",
       "23    44.000000\n",
       "24    43.000000\n",
       "25    76.500000\n",
       "26    54.375000\n",
       "27    38.642857\n",
       "28    52.250000\n",
       "29    20.000000\n",
       "30    71.750000\n",
       "31    26.750000\n",
       "32    67.392857\n",
       "33    81.111111\n",
       "34    35.611111\n",
       "35    39.350000\n",
       "Name: Likes_Received_Per_Day, dtype: float64"
      ]
     },
     "execution_count": 93,
     "metadata": {},
     "output_type": "execute_result"
    }
   ],
   "source": [
    "f_data_2 = female_data.groupby('Age')['Likes_Received_Per_Day'].mean()\n",
    "f_data_2"
   ]
  },
  {
   "cell_type": "code",
   "execution_count": 95,
   "metadata": {},
   "outputs": [
    {
     "data": {
      "text/plain": [
       "Age\n",
       "21    17.550000\n",
       "22    17.187500\n",
       "23    18.700000\n",
       "24    19.500000\n",
       "25    24.675000\n",
       "26    17.625000\n",
       "27    17.392857\n",
       "28    20.333333\n",
       "29     8.500000\n",
       "30    29.125000\n",
       "31     9.750000\n",
       "32    25.428571\n",
       "33    26.333333\n",
       "34    13.500000\n",
       "35    14.200000\n",
       "Name: Comments_Received_Per_Day, dtype: float64"
      ]
     },
     "execution_count": 95,
     "metadata": {},
     "output_type": "execute_result"
    }
   ],
   "source": [
    "f_data_3 = female_data.groupby('Age')['Comments_Received_Per_Day'].mean()\n",
    "f_data_3"
   ]
  },
  {
   "cell_type": "code",
   "execution_count": 102,
   "metadata": {},
   "outputs": [
    {
     "data": {
      "text/plain": [
       "Age\n",
       "21    24.100000\n",
       "22    24.125000\n",
       "23    24.500000\n",
       "24    23.807692\n",
       "25    29.225000\n",
       "26    30.000000\n",
       "27    20.642857\n",
       "28    26.750000\n",
       "29    19.785714\n",
       "30    33.000000\n",
       "31    20.000000\n",
       "32    30.607143\n",
       "33    36.777778\n",
       "34    18.888889\n",
       "35    21.100000\n",
       "Name: Messages_Sent_Per_Day, dtype: float64"
      ]
     },
     "execution_count": 102,
     "metadata": {},
     "output_type": "execute_result"
    }
   ],
   "source": [
    "f_data_4 = female_data.groupby('Age')['Messages_Sent_Per_Day'].mean()\n",
    "f_data_4"
   ]
  },
  {
   "cell_type": "code",
   "execution_count": 42,
   "metadata": {},
   "outputs": [],
   "source": [
    "# Gather statistical information over the famale population as a whole (total posts per day, total likes received per day, comments received per day, messages sent per day )\n",
    "f_posts = female_data['Posts_Per_Day'].describe()\n",
    "f_likes = female_data['Likes_Received_Per_Day'].describe()\n",
    "f_comments = female_data['Comments_Received_Per_Day'].describe()\n",
    "f_messsages = female_data['Messages_Sent_Per_Day'].describe()\n",
    "\n",
    "f_posts_median = female_data['Posts_Per_Day'].median()\n",
    "f_likes_median = female_data['Likes_Received_Per_Day'].median()\n",
    "f_comments_median = female_data['Comments_Received_Per_Day'].median()\n",
    "f_messsages_median = female_data['Messages_Sent_Per_Day'].median()\n",
    "\n",
    "f_posts_mode = female_data['Posts_Per_Day'].mode()\n",
    "f_likes_mode = female_data['Likes_Received_Per_Day'].mode()\n",
    "f_comments_mode = female_data['Comments_Received_Per_Day'].mode()\n",
    "f_messsages_mode = female_data['Messages_Sent_Per_Day'].mode()"
   ]
  },
  {
   "cell_type": "markdown",
   "metadata": {},
   "source": [
    "Non-Binary Analysis"
   ]
  },
  {
   "cell_type": "code",
   "execution_count": 47,
   "metadata": {},
   "outputs": [
    {
     "data": {
      "text/html": [
       "<div>\n",
       "<style scoped>\n",
       "    .dataframe tbody tr th:only-of-type {\n",
       "        vertical-align: middle;\n",
       "    }\n",
       "\n",
       "    .dataframe tbody tr th {\n",
       "        vertical-align: top;\n",
       "    }\n",
       "\n",
       "    .dataframe thead th {\n",
       "        text-align: right;\n",
       "    }\n",
       "</style>\n",
       "<table border=\"1\" class=\"dataframe\">\n",
       "  <thead>\n",
       "    <tr style=\"text-align: right;\">\n",
       "      <th></th>\n",
       "      <th>User_ID</th>\n",
       "      <th>Age</th>\n",
       "      <th>Gender</th>\n",
       "      <th>Platform</th>\n",
       "      <th>Daily_Usage_Time (minutes)</th>\n",
       "      <th>Posts_Per_Day</th>\n",
       "      <th>Likes_Received_Per_Day</th>\n",
       "      <th>Comments_Received_Per_Day</th>\n",
       "      <th>Messages_Sent_Per_Day</th>\n",
       "      <th>Dominant_Emotion</th>\n",
       "    </tr>\n",
       "  </thead>\n",
       "  <tbody>\n",
       "    <tr>\n",
       "      <th>2</th>\n",
       "      <td>3</td>\n",
       "      <td>22</td>\n",
       "      <td>Non-binary</td>\n",
       "      <td>Facebook</td>\n",
       "      <td>60</td>\n",
       "      <td>2</td>\n",
       "      <td>15</td>\n",
       "      <td>5</td>\n",
       "      <td>20</td>\n",
       "      <td>Neutral</td>\n",
       "    </tr>\n",
       "    <tr>\n",
       "      <th>7</th>\n",
       "      <td>8</td>\n",
       "      <td>24</td>\n",
       "      <td>Non-binary</td>\n",
       "      <td>Facebook</td>\n",
       "      <td>110</td>\n",
       "      <td>6</td>\n",
       "      <td>25</td>\n",
       "      <td>12</td>\n",
       "      <td>22</td>\n",
       "      <td>Sadness</td>\n",
       "    </tr>\n",
       "    <tr>\n",
       "      <th>11</th>\n",
       "      <td>12</td>\n",
       "      <td>26</td>\n",
       "      <td>Non-binary</td>\n",
       "      <td>Facebook</td>\n",
       "      <td>95</td>\n",
       "      <td>3</td>\n",
       "      <td>20</td>\n",
       "      <td>10</td>\n",
       "      <td>18</td>\n",
       "      <td>Sadness</td>\n",
       "    </tr>\n",
       "    <tr>\n",
       "      <th>15</th>\n",
       "      <td>16</td>\n",
       "      <td>21</td>\n",
       "      <td>Non-binary</td>\n",
       "      <td>Facebook</td>\n",
       "      <td>40</td>\n",
       "      <td>1</td>\n",
       "      <td>5</td>\n",
       "      <td>2</td>\n",
       "      <td>10</td>\n",
       "      <td>Neutral</td>\n",
       "    </tr>\n",
       "    <tr>\n",
       "      <th>18</th>\n",
       "      <td>19</td>\n",
       "      <td>23</td>\n",
       "      <td>Non-binary</td>\n",
       "      <td>LinkedIn</td>\n",
       "      <td>50</td>\n",
       "      <td>1</td>\n",
       "      <td>8</td>\n",
       "      <td>3</td>\n",
       "      <td>12</td>\n",
       "      <td>Neutral</td>\n",
       "    </tr>\n",
       "    <tr>\n",
       "      <th>...</th>\n",
       "      <td>...</td>\n",
       "      <td>...</td>\n",
       "      <td>...</td>\n",
       "      <td>...</td>\n",
       "      <td>...</td>\n",
       "      <td>...</td>\n",
       "      <td>...</td>\n",
       "      <td>...</td>\n",
       "      <td>...</td>\n",
       "      <td>...</td>\n",
       "    </tr>\n",
       "    <tr>\n",
       "      <th>908</th>\n",
       "      <td>985</td>\n",
       "      <td>29</td>\n",
       "      <td>Non-binary</td>\n",
       "      <td>Facebook</td>\n",
       "      <td>75</td>\n",
       "      <td>2</td>\n",
       "      <td>20</td>\n",
       "      <td>8</td>\n",
       "      <td>20</td>\n",
       "      <td>Boredom</td>\n",
       "    </tr>\n",
       "    <tr>\n",
       "      <th>911</th>\n",
       "      <td>988</td>\n",
       "      <td>21</td>\n",
       "      <td>Non-binary</td>\n",
       "      <td>Snapchat</td>\n",
       "      <td>60</td>\n",
       "      <td>1</td>\n",
       "      <td>18</td>\n",
       "      <td>7</td>\n",
       "      <td>12</td>\n",
       "      <td>Neutral</td>\n",
       "    </tr>\n",
       "    <tr>\n",
       "      <th>914</th>\n",
       "      <td>991</td>\n",
       "      <td>27</td>\n",
       "      <td>Non-binary</td>\n",
       "      <td>Facebook</td>\n",
       "      <td>50</td>\n",
       "      <td>1</td>\n",
       "      <td>10</td>\n",
       "      <td>4</td>\n",
       "      <td>10</td>\n",
       "      <td>Boredom</td>\n",
       "    </tr>\n",
       "    <tr>\n",
       "      <th>919</th>\n",
       "      <td>996</td>\n",
       "      <td>33</td>\n",
       "      <td>Non-binary</td>\n",
       "      <td>Twitter</td>\n",
       "      <td>85</td>\n",
       "      <td>4</td>\n",
       "      <td>35</td>\n",
       "      <td>18</td>\n",
       "      <td>18</td>\n",
       "      <td>Boredom</td>\n",
       "    </tr>\n",
       "    <tr>\n",
       "      <th>922</th>\n",
       "      <td>999</td>\n",
       "      <td>28</td>\n",
       "      <td>Non-binary</td>\n",
       "      <td>Telegram</td>\n",
       "      <td>60</td>\n",
       "      <td>2</td>\n",
       "      <td>18</td>\n",
       "      <td>8</td>\n",
       "      <td>18</td>\n",
       "      <td>Anger</td>\n",
       "    </tr>\n",
       "  </tbody>\n",
       "</table>\n",
       "<p>248 rows × 10 columns</p>\n",
       "</div>"
      ],
      "text/plain": [
       "     User_ID  Age      Gender  Platform  Daily_Usage_Time (minutes)  \\\n",
       "2          3   22  Non-binary  Facebook                          60   \n",
       "7          8   24  Non-binary  Facebook                         110   \n",
       "11        12   26  Non-binary  Facebook                          95   \n",
       "15        16   21  Non-binary  Facebook                          40   \n",
       "18        19   23  Non-binary  LinkedIn                          50   \n",
       "..       ...  ...         ...       ...                         ...   \n",
       "908      985   29  Non-binary  Facebook                          75   \n",
       "911      988   21  Non-binary  Snapchat                          60   \n",
       "914      991   27  Non-binary  Facebook                          50   \n",
       "919      996   33  Non-binary   Twitter                          85   \n",
       "922      999   28  Non-binary  Telegram                          60   \n",
       "\n",
       "     Posts_Per_Day  Likes_Received_Per_Day  Comments_Received_Per_Day  \\\n",
       "2                2                      15                          5   \n",
       "7                6                      25                         12   \n",
       "11               3                      20                         10   \n",
       "15               1                       5                          2   \n",
       "18               1                       8                          3   \n",
       "..             ...                     ...                        ...   \n",
       "908              2                      20                          8   \n",
       "911              1                      18                          7   \n",
       "914              1                      10                          4   \n",
       "919              4                      35                         18   \n",
       "922              2                      18                          8   \n",
       "\n",
       "     Messages_Sent_Per_Day Dominant_Emotion  \n",
       "2                       20          Neutral  \n",
       "7                       22          Sadness  \n",
       "11                      18          Sadness  \n",
       "15                      10          Neutral  \n",
       "18                      12          Neutral  \n",
       "..                     ...              ...  \n",
       "908                     20          Boredom  \n",
       "911                     12          Neutral  \n",
       "914                     10          Boredom  \n",
       "919                     18          Boredom  \n",
       "922                     18            Anger  \n",
       "\n",
       "[248 rows x 10 columns]"
      ]
     },
     "execution_count": 47,
     "metadata": {},
     "output_type": "execute_result"
    }
   ],
   "source": [
    "# Filtering for Non-binary entries using numeric index\n",
    "# First, find the index of male entries\n",
    "nb_data = data.index[data['Gender'] == 'Non-binary'].tolist()\n",
    "# Now, use iloc to get the rows corresponding to those indices\n",
    "nb_data = data.iloc[nb_data]\n",
    "nb_data"
   ]
  },
  {
   "cell_type": "code",
   "execution_count": 48,
   "metadata": {},
   "outputs": [],
   "source": [
    "# Gather statistical information over the famale population as a whole (total posts per day, total likes received per day, comments received per day, messages sent per day )\n",
    "nb_posts = nb_data['Posts_Per_Day'].describe()\n",
    "nb_likes = nb_data['Likes_Received_Per_Day'].describe()\n",
    "nb_comments = nb_data['Comments_Received_Per_Day'].describe()\n",
    "nb_messsages = nb_data['Messages_Sent_Per_Day'].describe()\n",
    "\n",
    "nb_posts_median = nb_data['Posts_Per_Day'].median()\n",
    "nb_likes_median = nb_data['Likes_Received_Per_Day'].median()\n",
    "nb_comments_median = nb_data['Comments_Received_Per_Day'].median()\n",
    "nb_messsages_median = nb_data['Messages_Sent_Per_Day'].median()\n",
    "\n",
    "nb_posts_mode = nb_data['Posts_Per_Day'].mode()\n",
    "nb_likes_mode = nb_data['Likes_Received_Per_Day'].mode()\n",
    "nb_comments_mode = nb_data['Comments_Received_Per_Day'].mode()\n",
    "nb_messsages_mode = nb_data['Messages_Sent_Per_Day'].mode()"
   ]
  },
  {
   "cell_type": "code",
   "execution_count": 49,
   "metadata": {},
   "outputs": [
    {
     "data": {
      "text/plain": [
       "Text(0.5, 1.0, 'Posts per day vs Age for Non-binary')"
      ]
     },
     "execution_count": 49,
     "metadata": {},
     "output_type": "execute_result"
    },
    {
     "data": {
      "image/png": "[encoded data removed]",
      "text/plain": [
       "<Figure size 640x480 with 1 Axes>"
      ]
     },
     "metadata": {},
     "output_type": "display_data"
    }
   ],
   "source": [
    "# Plot data using a bar graph comparing the average Posts per day by age.\n",
    "plt.bar(nb_data['Age'],nb_data['Posts_Per_Day'])\n",
    "plt.xlabel('Age')\n",
    "plt.ylabel('Posts Per Day')\n",
    "plt.title('Posts per day vs Age for Non-binary')"
   ]
  },
  {
   "cell_type": "code",
   "execution_count": 53,
   "metadata": {},
   "outputs": [
    {
     "data": {
      "text/plain": [
       "Age\n",
       "21    1.615385\n",
       "22    2.000000\n",
       "23    2.000000\n",
       "24    3.357143\n",
       "26    2.000000\n",
       "27    1.000000\n",
       "28    2.285714\n",
       "29    1.750000\n",
       "33    4.571429\n",
       "34    2.000000\n",
       "Name: Posts_Per_Day, dtype: float64"
      ]
     },
     "execution_count": 53,
     "metadata": {},
     "output_type": "execute_result"
    }
   ],
   "source": [
    "nb_data.groupby('Age')['Posts_Per_Day'].mean()"
   ]
  },
  {
   "cell_type": "code",
   "execution_count": 27,
   "metadata": {},
   "outputs": [
    {
     "data": {
      "text/plain": [
       "Text(0.5, 1.0, 'Likes received per day vs Age for Non-binary')"
      ]
     },
     "execution_count": 27,
     "metadata": {},
     "output_type": "execute_result"
    },
    {
     "data": {
      "image/png": "[encoded data removed]",
      "text/plain": [
       "<Figure size 640x480 with 1 Axes>"
      ]
     },
     "metadata": {},
     "output_type": "display_data"
    }
   ],
   "source": [
    "# Plot data using a bar graph comparing the average Likes received per day by age.\n",
    "plt.bar(nb_data['Age'],nb_data['Likes_Received_Per_Day'])\n",
    "plt.xlabel('Age')\n",
    "plt.ylabel('Likes Received Per Day')\n",
    "plt.title('Likes received per day vs Age for Non-binary')"
   ]
  },
  {
   "cell_type": "code",
   "execution_count": 28,
   "metadata": {},
   "outputs": [
    {
     "data": {
      "text/plain": [
       "Text(0.5, 1.0, 'Comments received per day vs Age for Non-binary')"
      ]
     },
     "execution_count": 28,
     "metadata": {},
     "output_type": "execute_result"
    },
    {
     "data": {
      "image/png": "[encoded data removed]",
      "text/plain": [
       "<Figure size 640x480 with 1 Axes>"
      ]
     },
     "metadata": {},
     "output_type": "display_data"
    }
   ],
   "source": [
    "# Plot data using a bar graph comparing the average comments received per day by age.\n",
    "plt.bar(nb_data['Age'],nb_data['Comments_Received_Per_Day'])\n",
    "plt.xlabel('Age')\n",
    "plt.ylabel('Comments Received Per Day')\n",
    "plt.title('Comments received per day vs Age for Non-binary')"
   ]
  },
  {
   "cell_type": "code",
   "execution_count": 32,
   "metadata": {},
   "outputs": [
    {
     "data": {
      "text/plain": [
       "Text(0.5, 1.0, 'Messages sent per day vs Age for Non-binary')"
      ]
     },
     "execution_count": 32,
     "metadata": {},
     "output_type": "execute_result"
    },
    {
     "data": {
      "image/png": "[encoded data removed]",
      "text/plain": [
       "<Figure size 640x480 with 1 Axes>"
      ]
     },
     "metadata": {},
     "output_type": "display_data"
    }
   ],
   "source": [
    "# Plot data using a bar graph comparing the average messages sent per day by age.\n",
    "plt.bar(nb_data['Age'],nb_data['Messages_Sent_Per_Day'])\n",
    "plt.xlabel('Age')\n",
    "plt.ylabel('Messages Sent Per Day')\n",
    "plt.title('Messages sent per day vs Age for Non-binary')"
   ]
  },
  {
   "cell_type": "code",
   "execution_count": 61,
   "metadata": {},
   "outputs": [
    {
     "data": {
      "text/plain": [
       "<Figure size 640x480 with 0 Axes>"
      ]
     },
     "metadata": {},
     "output_type": "display_data"
    }
   ],
   "source": []
  },
  {
   "cell_type": "code",
   "execution_count": null,
   "metadata": {},
   "outputs": [],
   "source": []
  },
  {
   "cell_type": "code",
   "execution_count": null,
   "metadata": {},
   "outputs": [],
   "source": []
  }
 ],
 "metadata": {
  "kernelspec": {
   "display_name": "base",
   "language": "python",
   "name": "python3"
  },
  "language_info": {
   "codemirror_mode": {
    "name": "ipython",
    "version": 3
   },
   "file_extension": ".py",
   "mimetype": "text/x-python",
   "name": "python",
   "nbconvert_exporter": "python",
   "pygments_lexer": "ipython3",
   "version": "3.12.4"
  }
 },
 "nbformat": 4,
 "nbformat_minor": 2
}
