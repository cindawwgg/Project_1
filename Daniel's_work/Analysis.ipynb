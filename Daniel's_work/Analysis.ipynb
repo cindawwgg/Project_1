{
 "cells": [
  {
   "cell_type": "code",
   "execution_count": null,
   "metadata": {},
   "outputs": [],
   "source": [
    "# Importing all libraries\n",
    "\n",
    "from pathlib import Path\n",
    "import pandas as pd \n",
    "import matplotlib.pyplot as plt\n",
    "import pandas as pd\n",
    "import scipy.stats as st"
   ]
  },
  {
   "cell_type": "code",
   "execution_count": null,
   "metadata": {},
   "outputs": [],
   "source": [
    "# Path for Cleaned CSV\n",
    "\n",
    "path= \"Clean_CSV.csv\""
   ]
  },
  {
   "cell_type": "code",
   "execution_count": null,
   "metadata": {},
   "outputs": [],
   "source": [
    "# Reading the CSV\n",
    "\n",
    "social_data= pd.read_csv(path)\n",
    "social_data.head()"
   ]
  },
  {
   "cell_type": "code",
   "execution_count": null,
   "metadata": {},
   "outputs": [],
   "source": [
    "# First Analysis comparisons between Age and Emotional Well Being\n",
    "# Setting up the DataFrame to only use Age and Dominant Emotion Columns\n",
    "\n",
    "analysis_1_df= social_data[[\"Age\", \"Dominant_Emotion\"]]\n",
    "analysis_1_df"
   ]
  },
  {
   "cell_type": "code",
   "execution_count": null,
   "metadata": {},
   "outputs": [],
   "source": [
    "# Calculating Median and Mode for the Age Column\n",
    "\n",
    "median_age = analysis_1_df[\"Age\"].median()\n",
    "median_age\n",
    "\n",
    "mode_age= analysis_1_df[\"Age\"].mode()\n",
    "mode_age"
   ]
  },
  {
   "cell_type": "code",
   "execution_count": null,
   "metadata": {},
   "outputs": [],
   "source": [
    "# Description of Age Column\n",
    "analysis_1_df[\"Age\"].describe()"
   ]
  },
  {
   "cell_type": "code",
   "execution_count": null,
   "metadata": {},
   "outputs": [],
   "source": [
    "# Bar Graph to show the total counts of each Emotion\n",
    "\n",
    "emotion_counts = analysis_1_df['Dominant_Emotion'].value_counts()\n",
    "\n",
    "plt.figure(figsize=(10, 5))\n",
    "plt.bar(emotion_counts.index, emotion_counts.values)\n",
    "plt.title('Dominant Emotion Counts')\n",
    "plt.xlabel('Dominant Emotion')\n",
    "plt.ylabel('Counts')\n",
    "plt.xticks(rotation=45)\n",
    "plt.savefig(\"../Images/Daniels_png_files/Emotion_Count.png\")\n",
    "plt.show()\n",
    "\n"
   ]
  },
  {
   "cell_type": "code",
   "execution_count": null,
   "metadata": {},
   "outputs": [],
   "source": [
    "# Bar Graph showing the totals per Age Group\n",
    "\n",
    "age_counts = analysis_1_df['Age'].value_counts()\n",
    "\n",
    "# Create the bar chart\n",
    "plt.figure(figsize=(10, 5))\n",
    "plt.bar(age_counts.index, age_counts.values)\n",
    "plt.title('Totals per Age Groups')\n",
    "plt.xlabel('Ages')\n",
    "plt.ylabel('Total')\n",
    "plt.xticks(rotation=45)\n",
    "plt.savefig(\"../Images/Daniels_png_files/Total_Age_Groups.png\")\n",
    "plt.show()"
   ]
  },
  {
   "cell_type": "code",
   "execution_count": null,
   "metadata": {},
   "outputs": [],
   "source": [
    "# Setting up DataFrame to only focus on the Happiness Emotion\n",
    "\n",
    "happiness_df = analysis_1_df[analysis_1_df['Dominant_Emotion'] == 'Happiness']\n",
    "happiness_df.value_counts()\n"
   ]
  },
  {
   "cell_type": "code",
   "execution_count": null,
   "metadata": {},
   "outputs": [],
   "source": [
    "# Setting up DataFrame to only focus on the ANger Emotion\n",
    "\n",
    "anger_df = analysis_1_df[analysis_1_df['Dominant_Emotion'] == 'Anger']\n",
    "anger_df.value_counts()"
   ]
  },
  {
   "cell_type": "code",
   "execution_count": null,
   "metadata": {},
   "outputs": [],
   "source": [
    "# Value Count of just the 27 year old age group.\n",
    "\n",
    "age_group_df = analysis_1_df[analysis_1_df['Age'] == 27]\n",
    "age_group_df.value_counts()"
   ]
  },
  {
   "cell_type": "code",
   "execution_count": null,
   "metadata": {},
   "outputs": [],
   "source": [
    "# Bar Graph showing the distribution of each Age group for only Happiness\n",
    "\n",
    "happy_counts = happiness_df['Age'].value_counts()\n",
    "\n",
    "# Creating the bar chart\n",
    "plt.figure(figsize=(10, 5))\n",
    "plt.bar(happy_counts.index, happy_counts.values)\n",
    "plt.title('Happiness Emotion per Age Group')\n",
    "plt.xlabel('Ages')\n",
    "plt.ylabel('Total')\n",
    "plt.xticks(rotation=45)\n",
    "plt.savefig(\"../Images/Daniels_png_files/Happiness_Per_Age.png\")\n",
    "plt.show()"
   ]
  },
  {
   "cell_type": "code",
   "execution_count": null,
   "metadata": {},
   "outputs": [],
   "source": [
    "# Bar Graph showing the dsitribution of each Age group for only Anger\n",
    "\n",
    "anger_counts = anger_df['Age'].value_counts()\n",
    "\n",
    "# Creating the bar chart\n",
    "plt.figure(figsize=(10, 5))\n",
    "plt.bar(anger_counts.index, anger_counts.values)\n",
    "plt.title('Anger Emotion per Age Group')\n",
    "plt.xlabel('Ages')\n",
    "plt.ylabel('Total')\n",
    "plt.xticks(rotation=45)\n",
    "plt.savefig(\"../Images/Daniels_png_files/Anger_Per_Age.png\")\n",
    "plt.show()"
   ]
  },
  {
   "cell_type": "code",
   "execution_count": null,
   "metadata": {},
   "outputs": [],
   "source": [
    "# Second Anaylsis comparison of Gender, Daily Usage in Minutes and Dominant Emotion\n",
    "\n",
    "analysis_2_df= social_data[[\"Gender\", \"Daily_Usage_Time (minutes)\", \"Dominant_Emotion\"]]\n",
    "analysis_2_df"
   ]
  },
  {
   "cell_type": "code",
   "execution_count": null,
   "metadata": {},
   "outputs": [],
   "source": [
    "# Bar Graph comparing Emotion and Daily Usage in minutes\n",
    "\n",
    "# Grouped by 'Dominant_Emotion' and calculated the mean daily usage time\n",
    "emotion_usage = analysis_2_df.groupby('Dominant_Emotion')['Daily_Usage_Time (minutes)'].mean()\n",
    "\n",
    "# Creation of the bar chart\n",
    "plt.bar(emotion_usage.index, emotion_usage.values)\n",
    "plt.title('Average Daily Usage Time by Dominant Emotion')\n",
    "plt.xlabel('Dominant Emotion')\n",
    "plt.ylabel('Average Daily Usage Time (minutes)')\n",
    "plt.xticks(rotation=45)\n",
    "plt.savefig(\"../Images/Daniels_png_files/Usage_per_Emotion.png\")\n",
    "plt.show()"
   ]
  },
  {
   "cell_type": "code",
   "execution_count": null,
   "metadata": {},
   "outputs": [],
   "source": [
    "# Bar Graph comparing Gender and Daily Usage in minutes\n",
    "\n",
    "# Grouped by 'Gender' and calculated the mean daily usage time\n",
    "gender_usage = analysis_2_df.groupby('Gender')['Daily_Usage_Time (minutes)'].mean()\n",
    "\n",
    "# Create a bar chart using Matplotlib\n",
    "plt.bar(gender_usage.index, gender_usage.values)\n",
    "plt.title('Average Daily Usage Time by Gender')\n",
    "plt.xlabel('Gender')\n",
    "plt.ylabel('Average Daily Usage Time (minutes)')\n",
    "plt.xticks(rotation=0)\n",
    "plt.savefig(\"../Images/Daniels_png_files/Usage_Per_Gender.png\")  \n",
    "plt.show()"
   ]
  },
  {
   "cell_type": "code",
   "execution_count": null,
   "metadata": {},
   "outputs": [],
   "source": [
    "gender_usage"
   ]
  },
  {
   "cell_type": "code",
   "execution_count": null,
   "metadata": {},
   "outputs": [],
   "source": [
    "# Setting up Data Frame for only Male Gender\n",
    "\n",
    "male_df = analysis_2_df[analysis_2_df['Gender'] == 'Male']\n",
    "male_df"
   ]
  },
  {
   "cell_type": "code",
   "execution_count": null,
   "metadata": {},
   "outputs": [],
   "source": [
    "# Bar Graph for only Males, comparing their Emotional state vs Social Media Usage in Minutes\n",
    "\n",
    "# Grouping by 'Dominant_Emotion' and calculating the mean daily usage time for only males\n",
    "male_usage = male_df.groupby('Dominant_Emotion')['Daily_Usage_Time (minutes)'].mean()\n",
    "\n",
    "# Created a bar chart using Matplotlib\n",
    "plt.bar(male_usage.index, male_usage.values)\n",
    "plt.title('Male Gender Daily Usage Time by Dominant Emotion')\n",
    "plt.xlabel('Dominant Emotion')\n",
    "plt.ylabel('Average Daily Usage Time (minutes)')\n",
    "plt.xticks(rotation=45)\n",
    "plt.savefig(\"../Images/Daniels_png_files/Male_usage_vs_emotion.png\")\n",
    "plt.show()"
   ]
  },
  {
   "cell_type": "code",
   "execution_count": null,
   "metadata": {},
   "outputs": [],
   "source": [
    "# Average time spent per emotion for male individuals.\n",
    "male_usage"
   ]
  },
  {
   "cell_type": "code",
   "execution_count": null,
   "metadata": {},
   "outputs": [],
   "source": [
    "# Setting up Data Frame for only Female Gender\n",
    "\n",
    "female_df = analysis_2_df[analysis_2_df['Gender'] == 'Female']\n",
    "female_df"
   ]
  },
  {
   "cell_type": "code",
   "execution_count": null,
   "metadata": {},
   "outputs": [],
   "source": [
    "# Bar Graph for only Females, comparing their Emotional state vs Social Media Usage in Minutes\n",
    "\n",
    "# Grouping by 'Dominant_Emotion' and calculating the mean daily usage time for females\n",
    "female_usage = female_df.groupby('Dominant_Emotion')['Daily_Usage_Time (minutes)'].mean()\n",
    "\n",
    "# Created a bar chart using Matplotlib\n",
    "plt.bar(female_usage.index, female_usage.values)\n",
    "plt.title('Female Gender Daily Usage Time by Dominant Emotion')\n",
    "plt.xlabel('Dominant Emotion')\n",
    "plt.ylabel('Average Daily Usage Time (minutes)')\n",
    "plt.xticks(rotation=45)\n",
    "plt.savefig(\"../Images/Daniels_png_files/Female_usage_vs_emotion.png\")\n",
    "plt.show()"
   ]
  },
  {
   "cell_type": "code",
   "execution_count": null,
   "metadata": {},
   "outputs": [],
   "source": [
    "# Average time spent per emotion for female individuals.\n",
    "\n",
    "female_usage"
   ]
  },
  {
   "cell_type": "code",
   "execution_count": null,
   "metadata": {},
   "outputs": [],
   "source": [
    "# Setting up Data Frame for only Non-Binary Gender\n",
    "\n",
    "non_binary_df = analysis_2_df[analysis_2_df['Gender'] == 'Non-binary']\n",
    "non_binary_df"
   ]
  },
  {
   "cell_type": "code",
   "execution_count": null,
   "metadata": {},
   "outputs": [],
   "source": [
    "# Bar Graph for only Non-Binary, comparing their Emotional state vs Social Media Usage in Minutes\n",
    "\n",
    "# Grouping by 'Dominant_Emotion' and calculating the mean daily usage time for non-binary\n",
    "nb_usage = non_binary_df.groupby('Dominant_Emotion')['Daily_Usage_Time (minutes)'].mean()\n",
    "\n",
    "# Created a bar chart using Matplotlib\n",
    "plt.bar(nb_usage.index, nb_usage.values)\n",
    "plt.title('Non-Binary Gender Daily Usage Time by Dominant Emotion')\n",
    "plt.xlabel('Dominant Emotion')\n",
    "plt.ylabel('Average Daily Usage Time (minutes)')\n",
    "plt.xticks(rotation=45)\n",
    "plt.savefig(\"../Images/Daniels_png_files/Nonbinary_usage_vs_emotion.png\")\n",
    "plt.show()"
   ]
  },
  {
   "cell_type": "code",
   "execution_count": null,
   "metadata": {},
   "outputs": [],
   "source": [
    "# Average time spent per emotion for non-binary individuals\n",
    "\n",
    "nb_usage"
   ]
  },
  {
   "cell_type": "code",
   "execution_count": null,
   "metadata": {},
   "outputs": [],
   "source": [
    "# Third Analysis comparisons between Posts, Likes, Comments and Messages per day and Dominant Emotion\n",
    "\n",
    "analysis_3_df = social_data[[\"Posts_Per_Day\", \"Likes_Received_Per_Day\", \n",
    "                             \"Comments_Received_Per_Day\", \"Messages_Sent_Per_Day\", \"Dominant_Emotion\"]]\n",
    "analysis_3_df"
   ]
  },
  {
   "cell_type": "code",
   "execution_count": null,
   "metadata": {},
   "outputs": [],
   "source": [
    "# Value count of Emotions\n",
    "\n",
    "analysis_3_df[\"Dominant_Emotion\"].value_counts()"
   ]
  },
  {
   "cell_type": "code",
   "execution_count": null,
   "metadata": {},
   "outputs": [],
   "source": [
    "# Pie Chart Comparison of Likes received and Emotion\n",
    "\n",
    "# Grouping by Dominant Emotion and sum of the Likes Received\n",
    "emotion_likes = analysis_3_df.groupby('Dominant_Emotion')['Likes_Received_Per_Day'].sum()\n",
    "\n",
    "# Created a pie chart\n",
    "plt.figure(figsize=(8, 8))\n",
    "plt.pie(emotion_likes, labels=emotion_likes.index, autopct='%1.1f%%', startangle=140)\n",
    "plt.title('Distribution of Likes Received per Day by Dominant Emotion')\n",
    "plt.axis('equal')\n",
    "plt.savefig(\"../Images/Daniels_png_files/Likes_vs_emotion.png\") \n",
    "plt.show()"
   ]
  },
  {
   "cell_type": "code",
   "execution_count": null,
   "metadata": {},
   "outputs": [],
   "source": [
    "# Pie Chart Comparison of Posts per day and Emotion\n",
    "\n",
    "emotion_posts = analysis_3_df.groupby('Dominant_Emotion')['Posts_Per_Day'].sum()\n",
    "\n",
    "# Create a pie chart\n",
    "plt.figure(figsize=(8, 8))\n",
    "plt.pie(emotion_posts, labels=emotion_likes.index, autopct='%1.1f%%', startangle=140)\n",
    "plt.title('Distribution of Posts per Day by Dominant Emotion')\n",
    "plt.axis('equal')\n",
    "plt.savefig(\"../Images/Daniels_png_files/Posts_vs_emotion.png\")   \n",
    "plt.show()"
   ]
  },
  {
   "cell_type": "code",
   "execution_count": null,
   "metadata": {},
   "outputs": [],
   "source": [
    "# Pie Chart Comparison of Comments per day and Emotion\n",
    "\n",
    "# Grouping by Dominant Emotion and sum of the Comments per day.\n",
    "emotion_comments = analysis_3_df.groupby('Dominant_Emotion')['Comments_Received_Per_Day'].sum()\n",
    "\n",
    "# Create a pie chart\n",
    "plt.figure(figsize=(8, 8))\n",
    "plt.pie(emotion_comments, labels=emotion_likes.index, autopct='%1.1f%%', startangle=140)\n",
    "plt.title('Distribution of Comments per Day by Dominant Emotion')\n",
    "plt.axis('equal')\n",
    "plt.savefig(\"../Images/Daniels_png_files/Comments_vs_emotion.png\")   \n",
    "plt.show()"
   ]
  },
  {
   "cell_type": "code",
   "execution_count": null,
   "metadata": {},
   "outputs": [],
   "source": [
    "# Pie Chart Comparison of Messages per day and Emotion\n",
    "\n",
    "# Grouping by Dominant Emotion and sum of Messages per day\n",
    "emotion_messages = analysis_3_df.groupby('Dominant_Emotion')['Messages_Sent_Per_Day'].sum()\n",
    "\n",
    "# Create a pie chart\n",
    "plt.figure(figsize=(8, 8))\n",
    "plt.pie(emotion_messages, labels=emotion_likes.index, autopct='%1.1f%%', startangle=140)\n",
    "plt.title('Distribution of Messages per Day by Dominant Emotion')\n",
    "plt.axis('equal')\n",
    "plt.savefig(\"../Images/Daniels_png_files/Messages_vs_emotion.png\")  \n",
    "plt.show()"
   ]
  },
  {
   "cell_type": "code",
   "execution_count": null,
   "metadata": {},
   "outputs": [],
   "source": [
    "# Combined Emotions Data Frame to see totals\n",
    "\n",
    "combined_emotions_df = pd.DataFrame({\n",
    "    'Messages Sent Per Day': emotion_messages,\n",
    "    'Comments Received Per Day': emotion_comments,\n",
    "    'Posts Per Day': emotion_posts,\n",
    "    'Likes Received Per Day': emotion_likes\n",
    "})\n",
    "\n",
    "# Print the combined DataFrame\n",
    "print(combined_emotions_df)"
   ]
  },
  {
   "cell_type": "code",
   "execution_count": null,
   "metadata": {},
   "outputs": [],
   "source": []
  }
 ],
 "metadata": {
  "kernelspec": {
   "display_name": "base",
   "language": "python",
   "name": "python3"
  },
  "language_info": {
   "codemirror_mode": {
    "name": "ipython",
    "version": 3
   },
   "file_extension": ".py",
   "mimetype": "text/x-python",
   "name": "python",
   "nbconvert_exporter": "python",
   "pygments_lexer": "ipython3",
   "version": "3.12.4"
  }
 },
 "nbformat": 4,
 "nbformat_minor": 2
}
