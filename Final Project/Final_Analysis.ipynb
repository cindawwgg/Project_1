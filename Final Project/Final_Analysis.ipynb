{
 "cells": [
  {
   "cell_type": "code",
   "execution_count": 13,
   "metadata": {},
   "outputs": [],
   "source": [
    "from pathlib import Path\n",
    "import pandas as pd \n",
    "import matplotlib.pyplot as plt\n",
    "import pandas as pd\n",
    "import scipy.stats as st\n",
    "from scipy.stats import linregress"
   ]
  },
  {
   "cell_type": "code",
<<<<<<< HEAD
   "execution_count": 14,
=======
   "execution_count": 3,
>>>>>>> f270c62747fbcb4365efc26fa2c4faad8c07a3f4
   "metadata": {},
   "outputs": [
    {
     "data": {
      "text/html": [
       "<div>\n",
       "<style scoped>\n",
       "    .dataframe tbody tr th:only-of-type {\n",
       "        vertical-align: middle;\n",
       "    }\n",
       "\n",
       "    .dataframe tbody tr th {\n",
       "        vertical-align: top;\n",
       "    }\n",
       "\n",
       "    .dataframe thead th {\n",
       "        text-align: right;\n",
       "    }\n",
       "</style>\n",
       "<table border=\"1\" class=\"dataframe\">\n",
       "  <thead>\n",
       "    <tr style=\"text-align: right;\">\n",
       "      <th></th>\n",
       "      <th>User_ID</th>\n",
       "      <th>Age</th>\n",
       "      <th>Gender</th>\n",
       "      <th>Platform</th>\n",
       "      <th>Daily_Usage_Time (minutes)</th>\n",
       "      <th>Posts_Per_Day</th>\n",
       "      <th>Likes_Received_Per_Day</th>\n",
       "      <th>Comments_Received_Per_Day</th>\n",
       "      <th>Messages_Sent_Per_Day</th>\n",
       "      <th>Dominant_Emotion</th>\n",
       "    </tr>\n",
       "  </thead>\n",
       "  <tbody>\n",
       "    <tr>\n",
       "      <th>0</th>\n",
       "      <td>1</td>\n",
       "      <td>25</td>\n",
       "      <td>Female</td>\n",
       "      <td>Instagram</td>\n",
       "      <td>120</td>\n",
       "      <td>3</td>\n",
       "      <td>45</td>\n",
       "      <td>10</td>\n",
       "      <td>12</td>\n",
       "      <td>Happiness</td>\n",
       "    </tr>\n",
       "    <tr>\n",
       "      <th>1</th>\n",
       "      <td>2</td>\n",
       "      <td>30</td>\n",
       "      <td>Male</td>\n",
       "      <td>Twitter</td>\n",
       "      <td>90</td>\n",
       "      <td>5</td>\n",
       "      <td>20</td>\n",
       "      <td>25</td>\n",
       "      <td>30</td>\n",
       "      <td>Anger</td>\n",
       "    </tr>\n",
       "    <tr>\n",
       "      <th>2</th>\n",
       "      <td>3</td>\n",
       "      <td>22</td>\n",
       "      <td>Non-binary</td>\n",
       "      <td>Facebook</td>\n",
       "      <td>60</td>\n",
       "      <td>2</td>\n",
       "      <td>15</td>\n",
       "      <td>5</td>\n",
       "      <td>20</td>\n",
       "      <td>Neutral</td>\n",
       "    </tr>\n",
       "    <tr>\n",
       "      <th>3</th>\n",
       "      <td>4</td>\n",
       "      <td>28</td>\n",
       "      <td>Female</td>\n",
       "      <td>Instagram</td>\n",
       "      <td>200</td>\n",
       "      <td>8</td>\n",
       "      <td>100</td>\n",
       "      <td>30</td>\n",
       "      <td>50</td>\n",
       "      <td>Anxiety</td>\n",
       "    </tr>\n",
       "    <tr>\n",
       "      <th>4</th>\n",
       "      <td>5</td>\n",
       "      <td>33</td>\n",
       "      <td>Male</td>\n",
       "      <td>LinkedIn</td>\n",
       "      <td>45</td>\n",
       "      <td>1</td>\n",
       "      <td>5</td>\n",
       "      <td>2</td>\n",
       "      <td>10</td>\n",
       "      <td>Boredom</td>\n",
       "    </tr>\n",
       "  </tbody>\n",
       "</table>\n",
       "</div>"
      ],
      "text/plain": [
       "   User_ID  Age      Gender   Platform  Daily_Usage_Time (minutes)  \\\n",
       "0        1   25      Female  Instagram                         120   \n",
       "1        2   30        Male    Twitter                          90   \n",
       "2        3   22  Non-binary   Facebook                          60   \n",
       "3        4   28      Female  Instagram                         200   \n",
       "4        5   33        Male   LinkedIn                          45   \n",
       "\n",
       "   Posts_Per_Day  Likes_Received_Per_Day  Comments_Received_Per_Day  \\\n",
       "0              3                      45                         10   \n",
       "1              5                      20                         25   \n",
       "2              2                      15                          5   \n",
       "3              8                     100                         30   \n",
       "4              1                       5                          2   \n",
       "\n",
       "   Messages_Sent_Per_Day Dominant_Emotion  \n",
       "0                     12        Happiness  \n",
       "1                     30            Anger  \n",
       "2                     20          Neutral  \n",
       "3                     50          Anxiety  \n",
       "4                     10          Boredom  "
      ]
     },
<<<<<<< HEAD
     "execution_count": 14,
=======
     "execution_count": 3,
>>>>>>> f270c62747fbcb4365efc26fa2c4faad8c07a3f4
     "metadata": {},
     "output_type": "execute_result"
    }
   ],
   "source": [
    "# Study data files\n",
    "path = \"../Jennifer's_work/Clean_CSV.csv\"\n",
    "\n",
    "# Read data and the study results\n",
    "data = pd.read_csv(path)\n",
    "data.head() "
   ]
  },
  {
   "cell_type": "markdown",
   "metadata": {},
   "source": [
    "Cindy's Work: Analysis over Age and Time Spent"
   ]
  },
  {
   "cell_type": "code",
<<<<<<< HEAD
   "execution_count": 15,
=======
   "execution_count": 5,
>>>>>>> f270c62747fbcb4365efc26fa2c4faad8c07a3f4
   "metadata": {},
   "outputs": [
    {
     "data": {
      "text/plain": [
       "96.30952380952381"
      ]
     },
<<<<<<< HEAD
     "execution_count": 15,
=======
     "execution_count": 5,
>>>>>>> f270c62747fbcb4365efc26fa2c4faad8c07a3f4
     "metadata": {},
     "output_type": "execute_result"
    }
   ],
   "source": [
    "# Calculate what the average overall usage time is \n",
    "cd_overall_avg_time = data['Daily_Usage_Time (minutes)'].mean()\n",
    "cd_overall_avg_time"
   ]
  },
  {
   "cell_type": "code",
   "execution_count": 7,
   "metadata": {},
   "outputs": [
    {
     "name": "stdout",
     "output_type": "stream",
     "text": [
      "y = 0.81x + 74.13\n"
     ]
    },
    {
     "data": {
      "image/png": "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",
      "text/plain": [
       "<Figure size 640x480 with 1 Axes>"
      ]
     },
     "metadata": {},
     "output_type": "display_data"
    }
   ],
   "source": [
    "#Create a scatter chart to display time spent on social media by age\n",
    "cd_x = data['Age']\n",
    "cd_y = data['Daily_Usage_Time (minutes)']\n",
    "plt.scatter(cd_x,cd_y,color='red',marker= 'o',edgecolors='black')\n",
    "plt.xlabel('Age')\n",
    "plt.ylabel('Time Spent (in minutes)')\n",
    "plt.title('Time Spent (in minutes) on Social Media by Age')\n",
    "#Generate a regression analysis and plot the best fit line for the graph\n",
    "(cd_slope,cd_intercept,cd_rvalue,cd_pvalue,std) = linregress(cd_x,cd_y)\n",
    "cd_regress_values = cd_x * cd_slope + cd_intercept\n",
    "cd_line_eq = \"y = \" + str(round(cd_slope,2)) + \"x + \" + str(round(cd_intercept,2))\n",
    "print(cd_line_eq)\n",
    "plt.plot(cd_x,cd_regress_values,'r-')\n",
    "plt.annotate(cd_line_eq,(0,0),fontsize=15,color=\"red\")\n",
    "plt.grid(True)\n",
    "plt.savefig(\"../Images/Exhibits-Cindy/age_time_scatter.png\")"
   ]
  },
  {
   "cell_type": "code",
   "execution_count": 9,
   "metadata": {},
   "outputs": [
    {
     "data": {
      "text/plain": [
       "PearsonRResult(statistic=0.08103752169850877, pvalue=0.013737831278319346)"
      ]
     },
     "execution_count": 9,
     "metadata": {},
     "output_type": "execute_result"
    }
   ],
   "source": [
    "#Run a correlation on age and time spent using pearson r\n",
    "cd_correlation = st.pearsonr(cd_x,cd_y)\n",
    "cd_correlation"
   ]
  },
  {
   "cell_type": "code",
   "execution_count": 11,
   "metadata": {},
   "outputs": [
    {
     "name": "stdout",
     "output_type": "stream",
     "text": [
      "The average age of users is: 27.833333333333332\n",
      "The most middle age of users is: 28.0\n",
      "The most common age of users is: 0    28\n",
      "Name: Age, dtype: int64\n",
      "The youngest user is: 21\n",
      "The oldest user is: 35\n",
      "The lower quartile of Ages is: 25.0\n",
      "The upper quartile of Ages is: 32.0\n",
      "The interquartile range of Ages is: 7.0\n",
      "The the median of Ages is: 28.0 \n",
      "Ages below 14.5 could be outliers.\n",
      "Ages above 42.5 could be outliers.\n"
     ]
    },
    {
     "data": {
      "image/png": "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",
      "text/plain": [
       "<Figure size 640x480 with 1 Axes>"
      ]
     },
     "metadata": {},
     "output_type": "display_data"
    }
   ],
   "source": [
    "#Filter for only rows where the user spent above average time on social media\n",
    "cd_time = data.index[data['Daily_Usage_Time (minutes)'] > cd_overall_avg_time].to_list()\n",
    "cd_time2 = data.iloc[cd_time]\n",
    "#Create a box plot showing the age distribution of the users who spend above average time on social media\n",
    "cd_ages2 = cd_time2['Age'].unique()\n",
    "cd_ages_sorted2 = sorted(cd_ages2)\n",
    "cd_age_amount2 = len(cd_ages2)\n",
    "\n",
    "cd_time2['Age'].plot(kind='box')\n",
    "plt.ylabel('Ages of Users')\n",
    "plt.title('Age Distribution of Users (w/ above Avg Usage Time)')\n",
    "plt.grid(True)\n",
    "plt.savefig(\"../Images/Exhibits-Cindy/age_time_box.png\")\n",
    "#Generate summary statistics of the age distribution\n",
    "cd_ages_mean = cd_time2['Age'].mean()\n",
    "cd_ages_median = cd_time2['Age'].median()\n",
    "cd_ages_mode = cd_time2['Age'].mode()\n",
    "cd_ages_min = cd_time2['Age'].min()\n",
    "cd_ages_max = cd_time2['Age'].max()\n",
    "cd_ages_var = cd_time2['Age'].var()\n",
    "cd_ages_std = cd_time2['Age'].std()\n",
    "\n",
    "print(f'The average age of users is: {cd_ages_mean}')\n",
    "print(f'The most middle age of users is: {cd_ages_median}')\n",
    "print(f'The most common age of users is: {cd_ages_mode}')\n",
    "print(f\"The youngest user is: {cd_ages_min}\")\n",
    "print(f\"The oldest user is: {cd_ages_max}\")\n",
    "\n",
    "\n",
    "cd_quartiles = cd_time2['Age'].quantile([.25,.5,.75])\n",
    "cd_lowerq = cd_quartiles[0.25]\n",
    "cd_upperq = cd_quartiles[0.75]\n",
    "cd_iqr = cd_upperq-cd_lowerq\n",
    "\n",
    "print(f\"The lower quartile of Ages is: {cd_lowerq}\")\n",
    "print(f\"The upper quartile of Ages is: {cd_upperq}\")\n",
    "print(f\"The interquartile range of Ages is: {cd_iqr}\")\n",
    "print(f\"The the median of Ages is: {cd_quartiles[0.5]} \")\n",
    "\n",
    "cd_lower_bound = cd_lowerq - (1.5*cd_iqr)\n",
    "cd_upper_bound = cd_upperq + (1.5*cd_iqr)\n",
    "print(f\"Ages below {cd_lower_bound} could be outliers.\")\n",
    "print(f\"Ages above {cd_upper_bound} could be outliers.\")"
   ]
  },
  {
   "cell_type": "code",
   "execution_count": 12,
   "metadata": {},
   "outputs": [
    {
     "data": {
      "image/png": "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",
      "text/plain": [
       "<Figure size 640x480 with 1 Axes>"
      ]
     },
     "metadata": {},
     "output_type": "display_data"
    }
   ],
   "source": [
    "plt.hist(cd_time2['Age'],bins=cd_age_amount2)\n",
    "plt.xlabel('Ages of Users')\n",
    "plt.ylabel('Frequency of Age')\n",
    "plt.title('Age Distribution of Users (w/ above Avg Usage Time)')\n",
    "plt.grid(True)\n",
    "plt.savefig(\"../Images/Exhibits-Cindy/age_time_histogram.png\")"
   ]
  },
  {
   "cell_type": "code",
   "execution_count": null,
   "metadata": {},
   "outputs": [],
   "source": []
  },
  {
   "cell_type": "markdown",
   "metadata": {},
   "source": [
    "End of Cindy's work"
   ]
  },
  {
   "cell_type": "markdown",
   "metadata": {},
<<<<<<< HEAD
   "outputs": [],
   "source": []
  },
  {
   "cell_type": "markdown",
   "metadata": {},
   "source": [
    "Zilan's work\n"
   ]
  },
  {
   "cell_type": "code",
   "execution_count": 16,
   "metadata": {},
   "outputs": [
    {
     "data": {
      "text/html": [
       "<div>\n",
       "<style scoped>\n",
       "    .dataframe tbody tr th:only-of-type {\n",
       "        vertical-align: middle;\n",
       "    }\n",
       "\n",
       "    .dataframe tbody tr th {\n",
       "        vertical-align: top;\n",
       "    }\n",
       "\n",
       "    .dataframe thead th {\n",
       "        text-align: right;\n",
       "    }\n",
       "</style>\n",
       "<table border=\"1\" class=\"dataframe\">\n",
       "  <thead>\n",
       "    <tr style=\"text-align: right;\">\n",
       "      <th></th>\n",
       "      <th>User_ID</th>\n",
       "      <th>Age</th>\n",
       "      <th>Gender</th>\n",
       "      <th>Platform</th>\n",
       "      <th>Daily_Usage_Time (minutes)</th>\n",
       "      <th>Posts_Per_Day</th>\n",
       "      <th>Likes_Received_Per_Day</th>\n",
       "      <th>Comments_Received_Per_Day</th>\n",
       "      <th>Messages_Sent_Per_Day</th>\n",
       "      <th>Dominant_Emotion</th>\n",
       "    </tr>\n",
       "  </thead>\n",
       "  <tbody>\n",
       "    <tr>\n",
       "      <th>0</th>\n",
       "      <td>1</td>\n",
       "      <td>25</td>\n",
       "      <td>Female</td>\n",
       "      <td>Instagram</td>\n",
       "      <td>120</td>\n",
       "      <td>3</td>\n",
       "      <td>45</td>\n",
       "      <td>10</td>\n",
       "      <td>12</td>\n",
       "      <td>Happiness</td>\n",
       "    </tr>\n",
       "    <tr>\n",
       "      <th>1</th>\n",
       "      <td>2</td>\n",
       "      <td>30</td>\n",
       "      <td>Male</td>\n",
       "      <td>Twitter</td>\n",
       "      <td>90</td>\n",
       "      <td>5</td>\n",
       "      <td>20</td>\n",
       "      <td>25</td>\n",
       "      <td>30</td>\n",
       "      <td>Anger</td>\n",
       "    </tr>\n",
       "    <tr>\n",
       "      <th>2</th>\n",
       "      <td>3</td>\n",
       "      <td>22</td>\n",
       "      <td>Non-binary</td>\n",
       "      <td>Facebook</td>\n",
       "      <td>60</td>\n",
       "      <td>2</td>\n",
       "      <td>15</td>\n",
       "      <td>5</td>\n",
       "      <td>20</td>\n",
       "      <td>Neutral</td>\n",
       "    </tr>\n",
       "    <tr>\n",
       "      <th>3</th>\n",
       "      <td>4</td>\n",
       "      <td>28</td>\n",
       "      <td>Female</td>\n",
       "      <td>Instagram</td>\n",
       "      <td>200</td>\n",
       "      <td>8</td>\n",
       "      <td>100</td>\n",
       "      <td>30</td>\n",
       "      <td>50</td>\n",
       "      <td>Anxiety</td>\n",
       "    </tr>\n",
       "    <tr>\n",
       "      <th>4</th>\n",
       "      <td>5</td>\n",
       "      <td>33</td>\n",
       "      <td>Male</td>\n",
       "      <td>LinkedIn</td>\n",
       "      <td>45</td>\n",
       "      <td>1</td>\n",
       "      <td>5</td>\n",
       "      <td>2</td>\n",
       "      <td>10</td>\n",
       "      <td>Boredom</td>\n",
       "    </tr>\n",
       "  </tbody>\n",
       "</table>\n",
       "</div>"
      ],
      "text/plain": [
       "   User_ID  Age      Gender   Platform  Daily_Usage_Time (minutes)  \\\n",
       "0        1   25      Female  Instagram                         120   \n",
       "1        2   30        Male    Twitter                          90   \n",
       "2        3   22  Non-binary   Facebook                          60   \n",
       "3        4   28      Female  Instagram                         200   \n",
       "4        5   33        Male   LinkedIn                          45   \n",
       "\n",
       "   Posts_Per_Day  Likes_Received_Per_Day  Comments_Received_Per_Day  \\\n",
       "0              3                      45                         10   \n",
       "1              5                      20                         25   \n",
       "2              2                      15                          5   \n",
       "3              8                     100                         30   \n",
       "4              1                       5                          2   \n",
       "\n",
       "   Messages_Sent_Per_Day Dominant_Emotion  \n",
       "0                     12        Happiness  \n",
       "1                     30            Anger  \n",
       "2                     20          Neutral  \n",
       "3                     50          Anxiety  \n",
       "4                     10          Boredom  "
      ]
     },
     "execution_count": 16,
     "metadata": {},
     "output_type": "execute_result"
    }
   ],
   "source": [
    "social_data= pd.read_csv(path)\n",
    "social_data.head()"
   ]
  },
  {
   "cell_type": "code",
   "execution_count": 17,
   "metadata": {},
   "outputs": [
    {
     "data": {
      "text/html": [
       "<div>\n",
       "<style scoped>\n",
       "    .dataframe tbody tr th:only-of-type {\n",
       "        vertical-align: middle;\n",
       "    }\n",
       "\n",
       "    .dataframe tbody tr th {\n",
       "        vertical-align: top;\n",
       "    }\n",
       "\n",
       "    .dataframe thead th {\n",
       "        text-align: right;\n",
       "    }\n",
       "</style>\n",
       "<table border=\"1\" class=\"dataframe\">\n",
       "  <thead>\n",
       "    <tr style=\"text-align: right;\">\n",
       "      <th></th>\n",
       "      <th>Gender</th>\n",
       "      <th>Platform</th>\n",
       "    </tr>\n",
       "  </thead>\n",
       "  <tbody>\n",
       "    <tr>\n",
       "      <th>0</th>\n",
       "      <td>Female</td>\n",
       "      <td>Instagram</td>\n",
       "    </tr>\n",
       "    <tr>\n",
       "      <th>1</th>\n",
       "      <td>Male</td>\n",
       "      <td>Twitter</td>\n",
       "    </tr>\n",
       "    <tr>\n",
       "      <th>2</th>\n",
       "      <td>Non-binary</td>\n",
       "      <td>Facebook</td>\n",
       "    </tr>\n",
       "    <tr>\n",
       "      <th>3</th>\n",
       "      <td>Female</td>\n",
       "      <td>Instagram</td>\n",
       "    </tr>\n",
       "    <tr>\n",
       "      <th>4</th>\n",
       "      <td>Male</td>\n",
       "      <td>LinkedIn</td>\n",
       "    </tr>\n",
       "    <tr>\n",
       "      <th>...</th>\n",
       "      <td>...</td>\n",
       "      <td>...</td>\n",
       "    </tr>\n",
       "    <tr>\n",
       "      <th>919</th>\n",
       "      <td>Non-binary</td>\n",
       "      <td>Twitter</td>\n",
       "    </tr>\n",
       "    <tr>\n",
       "      <th>920</th>\n",
       "      <td>Female</td>\n",
       "      <td>Facebook</td>\n",
       "    </tr>\n",
       "    <tr>\n",
       "      <th>921</th>\n",
       "      <td>Male</td>\n",
       "      <td>Whatsapp</td>\n",
       "    </tr>\n",
       "    <tr>\n",
       "      <th>922</th>\n",
       "      <td>Non-binary</td>\n",
       "      <td>Telegram</td>\n",
       "    </tr>\n",
       "    <tr>\n",
       "      <th>923</th>\n",
       "      <td>Female</td>\n",
       "      <td>Snapchat</td>\n",
       "    </tr>\n",
       "  </tbody>\n",
       "</table>\n",
       "<p>924 rows × 2 columns</p>\n",
       "</div>"
      ],
      "text/plain": [
       "         Gender   Platform\n",
       "0        Female  Instagram\n",
       "1          Male    Twitter\n",
       "2    Non-binary   Facebook\n",
       "3        Female  Instagram\n",
       "4          Male   LinkedIn\n",
       "..          ...        ...\n",
       "919  Non-binary    Twitter\n",
       "920      Female   Facebook\n",
       "921        Male   Whatsapp\n",
       "922  Non-binary   Telegram\n",
       "923      Female   Snapchat\n",
       "\n",
       "[924 rows x 2 columns]"
      ]
     },
     "execution_count": 17,
     "metadata": {},
     "output_type": "execute_result"
    }
   ],
   "source": [
    "# First Analysis gender vs Platform\n",
    "\n",
    "zln_analysis_1_df= social_data[[\"Gender\", \"Platform\"]]\n",
    "zln_analysis_1_df"
   ]
  },
  {
   "cell_type": "code",
   "execution_count": 21,
   "metadata": {},
   "outputs": [
    {
     "data": {
      "image/png": "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",
      "text/plain": [
       "<Figure size 1000x600 with 1 Axes>"
      ]
     },
     "metadata": {},
     "output_type": "display_data"
    }
   ],
   "source": [
    "\n",
    "# Assuming 'zln_analysis_1_df' is your DataFrame\n",
    "# Step 2: Count the occurrences of each platform by gender\n",
    "gender_platform_counts = zln_analysis_1_df.groupby(['Gender', 'Platform']).size().reset_index(name='Count')\n",
    "\n",
    "# Step 3: Set up the plot\n",
    "plt.figure(figsize=(10, 6))\n",
    "\n",
    "# Step 4: Create a bar plot\n",
    "sns.barplot(x='Platform', y='Count', hue='Gender', data=gender_platform_counts, palette='viridis')\n",
    "\n",
    "# Step 5: Add titles and labels\n",
    "plt.title('Gender vs Platform Usage', fontsize=16)\n",
    "plt.xlabel('Platform', fontsize=14)\n",
    "plt.ylabel('Count', fontsize=14)\n",
    "\n",
    "# Step 6: Rotate x-axis labels for better readability\n",
    "plt.xticks(rotation=45)\n",
    "\n",
    "# Step 7: Adjust the layout to prevent clipping\n",
    "plt.tight_layout()\n",
    "\n",
    "# Step 8: Save the plot and show it\n",
    "plt.savefig(\"../Images/gender_platform.png\")\n",
    "plt.show()\n",
    "\n"
   ]
  },
  {
   "cell_type": "code",
   "execution_count": 22,
   "metadata": {},
   "outputs": [
    {
     "data": {
      "text/plain": [
       "'Twitter'"
      ]
     },
     "execution_count": 22,
     "metadata": {},
     "output_type": "execute_result"
    }
   ],
   "source": [
    "# Filter for male entries\n",
    "male_data = zln_analysis_1_df[zln_analysis_1_df['Gender'] == 'Male'] \n",
    "\n",
    "# Count the occurrences of each platform\n",
    "most_used_platform = male_data['Platform'].value_counts().idxmax()\n",
    "\n",
    "# Print the result\n",
    "most_used_platform"
   ]
  },
  {
   "cell_type": "code",
   "execution_count": 23,
   "metadata": {},
   "outputs": [
    {
     "data": {
      "text/plain": [
       "'Instagram'"
      ]
     },
     "execution_count": 23,
     "metadata": {},
     "output_type": "execute_result"
    }
   ],
   "source": [
    "# Filter for female entries\n",
    "female_data = zln_analysis_1_df[zln_analysis_1_df['Gender'] == 'Female'] \n",
    "\n",
    "# Count the occurrences of each platform\n",
    "most_used_platform = female_data['Platform'].value_counts().idxmax()\n",
    "\n",
    "# Print the result\n",
    "most_used_platform"
   ]
  },
  {
   "cell_type": "code",
   "execution_count": 24,
   "metadata": {},
   "outputs": [
    {
     "name": "stdout",
     "output_type": "stream",
     "text": [
      "Facebook\n"
     ]
    }
   ],
   "source": [
    "# Filter for Non-binary entries\n",
    "Non_binary_data = zln_analysis_1_df[zln_analysis_1_df['Gender'] == 'Non-binary'] \n",
    "\n",
    "# Count the occurrences of each platform\n",
    "most_used_platform = Non_binary_data['Platform'].value_counts().idxmax()\n",
    "\n",
    "# Print the result\n",
    "print(most_used_platform)"
   ]
  },
  {
   "cell_type": "code",
   "execution_count": 25,
   "metadata": {},
   "outputs": [
    {
     "data": {
      "text/html": [
       "<div>\n",
       "<style scoped>\n",
       "    .dataframe tbody tr th:only-of-type {\n",
       "        vertical-align: middle;\n",
       "    }\n",
       "\n",
       "    .dataframe tbody tr th {\n",
       "        vertical-align: top;\n",
       "    }\n",
       "\n",
       "    .dataframe thead th {\n",
       "        text-align: right;\n",
       "    }\n",
       "</style>\n",
       "<table border=\"1\" class=\"dataframe\">\n",
       "  <thead>\n",
       "    <tr style=\"text-align: right;\">\n",
       "      <th></th>\n",
       "      <th>Age</th>\n",
       "      <th>Platform</th>\n",
       "    </tr>\n",
       "  </thead>\n",
       "  <tbody>\n",
       "    <tr>\n",
       "      <th>0</th>\n",
       "      <td>25</td>\n",
       "      <td>Instagram</td>\n",
       "    </tr>\n",
       "    <tr>\n",
       "      <th>1</th>\n",
       "      <td>30</td>\n",
       "      <td>Twitter</td>\n",
       "    </tr>\n",
       "    <tr>\n",
       "      <th>2</th>\n",
       "      <td>22</td>\n",
       "      <td>Facebook</td>\n",
       "    </tr>\n",
       "    <tr>\n",
       "      <th>3</th>\n",
       "      <td>28</td>\n",
       "      <td>Instagram</td>\n",
       "    </tr>\n",
       "    <tr>\n",
       "      <th>4</th>\n",
       "      <td>33</td>\n",
       "      <td>LinkedIn</td>\n",
       "    </tr>\n",
       "    <tr>\n",
       "      <th>...</th>\n",
       "      <td>...</td>\n",
       "      <td>...</td>\n",
       "    </tr>\n",
       "    <tr>\n",
       "      <th>919</th>\n",
       "      <td>33</td>\n",
       "      <td>Twitter</td>\n",
       "    </tr>\n",
       "    <tr>\n",
       "      <th>920</th>\n",
       "      <td>22</td>\n",
       "      <td>Facebook</td>\n",
       "    </tr>\n",
       "    <tr>\n",
       "      <th>921</th>\n",
       "      <td>35</td>\n",
       "      <td>Whatsapp</td>\n",
       "    </tr>\n",
       "    <tr>\n",
       "      <th>922</th>\n",
       "      <td>28</td>\n",
       "      <td>Telegram</td>\n",
       "    </tr>\n",
       "    <tr>\n",
       "      <th>923</th>\n",
       "      <td>27</td>\n",
       "      <td>Snapchat</td>\n",
       "    </tr>\n",
       "  </tbody>\n",
       "</table>\n",
       "<p>924 rows × 2 columns</p>\n",
       "</div>"
      ],
      "text/plain": [
       "     Age   Platform\n",
       "0     25  Instagram\n",
       "1     30    Twitter\n",
       "2     22   Facebook\n",
       "3     28  Instagram\n",
       "4     33   LinkedIn\n",
       "..   ...        ...\n",
       "919   33    Twitter\n",
       "920   22   Facebook\n",
       "921   35   Whatsapp\n",
       "922   28   Telegram\n",
       "923   27   Snapchat\n",
       "\n",
       "[924 rows x 2 columns]"
      ]
     },
     "execution_count": 25,
     "metadata": {},
     "output_type": "execute_result"
    }
   ],
   "source": [
    "# Second Anaylsis Age vs Platform\n",
    "\n",
    "zln_analysis_2_df= social_data[[\"Age\",  \"Platform\"]]\n",
    "zln_analysis_2_df"
   ]
  },
  {
   "cell_type": "code",
   "execution_count": 26,
   "metadata": {},
   "outputs": [
    {
     "data": {
      "image/png": "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",
      "text/plain": [
       "<Figure size 1200x600 with 1 Axes>"
      ]
     },
     "metadata": {},
     "output_type": "display_data"
    }
   ],
   "source": [
    "\n",
    "# Step 1: Count the occurrences of each platform for every age group\n",
    "age_platform_counts = zln_analysis_2_df.groupby(['Age', 'Platform']).size().reset_index(name='Count')\n",
    "\n",
    "# Step 2: Set up the plot\n",
    "plt.figure(figsize=(12, 6))\n",
    "\n",
    "# Step 3: Create the bar plot\n",
    "sns.barplot(x='Age', y='Count', hue='Platform', data=age_platform_counts, palette='Set2')\n",
    "\n",
    "# Step 4: Add titles and labels\n",
    "plt.title('Platform Usage by Age', fontsize=16)\n",
    "plt.xlabel('Age', fontsize=14)\n",
    "plt.ylabel('Count', fontsize=14)\n",
    "\n",
    "# Step 5: Rotate x-axis labels for better readability (if needed)\n",
    "plt.xticks(rotation=45)\n",
    "\n",
    "# Step 6: Adjust layout to prevent clipping\n",
    "plt.tight_layout()\n",
    "\n",
    "# Step 7: Show the plot\n",
    "plt.savefig(\"../Images/age_platform.png\")\n",
    "plt.show()"
   ]
  },
  {
   "cell_type": "code",
   "execution_count": 27,
   "metadata": {},
   "outputs": [
    {
     "data": {
      "text/plain": [
       "27.5"
      ]
     },
     "execution_count": 27,
     "metadata": {},
     "output_type": "execute_result"
    }
   ],
   "source": [
    "avg_age= zln_analysis_2_df[\"Age\"].mean()\n",
    "avg_age"
   ]
  },
  {
   "cell_type": "code",
   "execution_count": 28,
   "metadata": {},
   "outputs": [
    {
     "data": {
      "text/plain": [
       "'Twitter'"
      ]
     },
     "execution_count": 28,
     "metadata": {},
     "output_type": "execute_result"
    }
   ],
   "source": [
    "\n",
    "# Filter for male entries\n",
    "data_27= zln_analysis_2_df[zln_analysis_2_df['Age'] == 27] \n",
    "\n",
    "# Count the occurrences of each platform\n",
    "most_used_platform = data_27['Platform'].value_counts().idxmax()\n",
    "\n",
    "# Print the result\n",
    "most_used_platform"
   ]
  },
  {
   "cell_type": "code",
   "execution_count": 29,
   "metadata": {},
   "outputs": [
    {
     "data": {
      "text/plain": [
       "'Instagram'"
      ]
     },
     "execution_count": 29,
     "metadata": {},
     "output_type": "execute_result"
    }
   ],
   "source": [
    "\n",
    "# Filter for male entries\n",
    "data_28= zln_analysis_2_df[zln_analysis_2_df['Age'] == 28] \n",
    "\n",
    "# Count the occurrences of each platform\n",
    "most_used_platform = data_28['Platform'].value_counts().idxmax()\n",
    "\n",
    "# Print the result\n",
    "most_used_platform"
   ]
  },
  {
   "cell_type": "code",
   "execution_count": 30,
   "metadata": {},
   "outputs": [
    {
     "data": {
      "text/plain": [
       "'Twitter'"
      ]
     },
     "execution_count": 30,
     "metadata": {},
     "output_type": "execute_result"
    }
   ],
   "source": [
    "# Filter for female entries\n",
    "data_27= zln_analysis_2_df[zln_analysis_2_df['Age'] == 27] \n",
    "\n",
    "# Count the occurrences of each platform\n",
    "most_used_platform = data_27['Platform'].value_counts().idxmax()\n",
    "\n",
    "# Print the result\n",
    "most_used_platform"
   ]
  },
  {
   "cell_type": "code",
   "execution_count": 31,
   "metadata": {},
   "outputs": [
    {
     "data": {
      "text/plain": [
       "'Instagram'"
      ]
     },
     "execution_count": 31,
     "metadata": {},
     "output_type": "execute_result"
    }
   ],
   "source": [
    "# Filter for female entries\n",
    "data_28= zln_analysis_2_df[zln_analysis_2_df['Age'] == 28] \n",
    "\n",
    "# Count the occurrences of each platform\n",
    "most_used_platform = data_28['Platform'].value_counts().idxmax()\n",
    "\n",
    "# Print the result\n",
    "most_used_platform"
   ]
  },
  {
   "cell_type": "code",
   "execution_count": 32,
   "metadata": {},
   "outputs": [
    {
     "data": {
      "text/plain": [
       "'Twitter'"
      ]
     },
     "execution_count": 32,
     "metadata": {},
     "output_type": "execute_result"
    }
   ],
   "source": [
    "# Filter for  Non-binary entries\n",
    "data_27= zln_analysis_2_df[zln_analysis_2_df['Age'] == 27] \n",
    "\n",
    "# Count the occurrences of each platform\n",
    "most_used_platform = data_27['Platform'].value_counts().idxmax()\n",
    "\n",
    "# Print the result\n",
    "most_used_platform"
   ]
  },
  {
   "cell_type": "code",
   "execution_count": 33,
   "metadata": {},
   "outputs": [
    {
     "data": {
      "text/plain": [
       "'Instagram'"
      ]
     },
     "execution_count": 33,
     "metadata": {},
     "output_type": "execute_result"
    }
   ],
   "source": [
    "\n",
    "# Filter for  Non-binary entries\n",
    "data_27= zln_analysis_2_df[zln_analysis_2_df['Age'] == 28] \n",
    "\n",
    "# Count the occurrences of each platform\n",
    "most_used_platform = data_27['Platform'].value_counts().idxmax()\n",
    "\n",
    "# Print the result\n",
    "most_used_platform\n"
   ]
  },
  {
   "cell_type": "code",
   "execution_count": 34,
   "metadata": {},
   "outputs": [
    {
     "data": {
      "text/html": [
       "<div>\n",
       "<style scoped>\n",
       "    .dataframe tbody tr th:only-of-type {\n",
       "        vertical-align: middle;\n",
       "    }\n",
       "\n",
       "    .dataframe tbody tr th {\n",
       "        vertical-align: top;\n",
       "    }\n",
       "\n",
       "    .dataframe thead th {\n",
       "        text-align: right;\n",
       "    }\n",
       "</style>\n",
       "<table border=\"1\" class=\"dataframe\">\n",
       "  <thead>\n",
       "    <tr style=\"text-align: right;\">\n",
       "      <th></th>\n",
       "      <th>Gender</th>\n",
       "      <th>Age</th>\n",
       "      <th>Platform</th>\n",
       "    </tr>\n",
       "  </thead>\n",
       "  <tbody>\n",
       "    <tr>\n",
       "      <th>0</th>\n",
       "      <td>Female</td>\n",
       "      <td>25</td>\n",
       "      <td>Instagram</td>\n",
       "    </tr>\n",
       "    <tr>\n",
       "      <th>1</th>\n",
       "      <td>Male</td>\n",
       "      <td>30</td>\n",
       "      <td>Twitter</td>\n",
       "    </tr>\n",
       "    <tr>\n",
       "      <th>2</th>\n",
       "      <td>Non-binary</td>\n",
       "      <td>22</td>\n",
       "      <td>Facebook</td>\n",
       "    </tr>\n",
       "    <tr>\n",
       "      <th>3</th>\n",
       "      <td>Female</td>\n",
       "      <td>28</td>\n",
       "      <td>Instagram</td>\n",
       "    </tr>\n",
       "    <tr>\n",
       "      <th>4</th>\n",
       "      <td>Male</td>\n",
       "      <td>33</td>\n",
       "      <td>LinkedIn</td>\n",
       "    </tr>\n",
       "    <tr>\n",
       "      <th>...</th>\n",
       "      <td>...</td>\n",
       "      <td>...</td>\n",
       "      <td>...</td>\n",
       "    </tr>\n",
       "    <tr>\n",
       "      <th>919</th>\n",
       "      <td>Non-binary</td>\n",
       "      <td>33</td>\n",
       "      <td>Twitter</td>\n",
       "    </tr>\n",
       "    <tr>\n",
       "      <th>920</th>\n",
       "      <td>Female</td>\n",
       "      <td>22</td>\n",
       "      <td>Facebook</td>\n",
       "    </tr>\n",
       "    <tr>\n",
       "      <th>921</th>\n",
       "      <td>Male</td>\n",
       "      <td>35</td>\n",
       "      <td>Whatsapp</td>\n",
       "    </tr>\n",
       "    <tr>\n",
       "      <th>922</th>\n",
       "      <td>Non-binary</td>\n",
       "      <td>28</td>\n",
       "      <td>Telegram</td>\n",
       "    </tr>\n",
       "    <tr>\n",
       "      <th>923</th>\n",
       "      <td>Female</td>\n",
       "      <td>27</td>\n",
       "      <td>Snapchat</td>\n",
       "    </tr>\n",
       "  </tbody>\n",
       "</table>\n",
       "<p>924 rows × 3 columns</p>\n",
       "</div>"
      ],
      "text/plain": [
       "         Gender  Age   Platform\n",
       "0        Female   25  Instagram\n",
       "1          Male   30    Twitter\n",
       "2    Non-binary   22   Facebook\n",
       "3        Female   28  Instagram\n",
       "4          Male   33   LinkedIn\n",
       "..          ...  ...        ...\n",
       "919  Non-binary   33    Twitter\n",
       "920      Female   22   Facebook\n",
       "921        Male   35   Whatsapp\n",
       "922  Non-binary   28   Telegram\n",
       "923      Female   27   Snapchat\n",
       "\n",
       "[924 rows x 3 columns]"
      ]
     },
     "execution_count": 34,
     "metadata": {},
     "output_type": "execute_result"
    }
   ],
   "source": [
    "# Third Analysis gender, age, platform\n",
    "zln_analysis_3_df = social_data[[\"Gender\", \"Age\", \"Platform\"]]\n",
    "zln_analysis_3_df "
   ]
  },
  {
   "cell_type": "code",
   "execution_count": 35,
   "metadata": {},
   "outputs": [
    {
     "data": {
      "image/png": "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",
      "text/plain": [
       "<Figure size 1600x600 with 1 Axes>"
      ]
     },
     "metadata": {},
     "output_type": "display_data"
    }
   ],
   "source": [
    "\n",
    "# Step 1: Group the data by Gender, Age, and Platform and count the occurrences\n",
    "gender_age_platform_counts = zln_analysis_3_df.groupby(['Age', 'Platform', 'Gender']).size().reset_index(name='Count')\n",
    "\n",
    "# Step 2: Set up the figure for the bar chart\n",
    "plt.figure(figsize=(16, 6))\n",
    "\n",
    "# Step 3: Create the bar plot\n",
    "sns.barplot(x='Age', y='Count', hue='Gender', data=gender_age_platform_counts, palette='Set2')\n",
    "\n",
    "# Step 4: Add titles and labels\n",
    "plt.title('Gender Distribution by Age Group and Platform', fontsize=16)\n",
    "plt.xlabel('Age Group', fontsize=14)\n",
    "plt.ylabel('Count of Users', fontsize=14)\n",
    "\n",
    "# Step 5: Rotate x-axis labels for better readability (optional)\n",
    "plt.xticks(rotation=45)\n",
    "\n",
    "# Step 6: Adjust layout to prevent clipping\n",
    "plt.tight_layout()\n",
    "\n",
    "# Step 7: Show the plot\n",
    "plt.savefig(\"../Images/gender_age_and_platform.png\")\n",
    "plt.show()\n"
   ]
  },
  {
   "cell_type": "code",
   "execution_count": 36,
   "metadata": {},
   "outputs": [
    {
     "name": "stdout",
     "output_type": "stream",
     "text": [
      "The most used platform by women aged 27 is: Twitter\n"
     ]
    }
   ],
   "source": [
    "# Filter for female entries\n",
    "female_data = zln_analysis_3_df[zln_analysis_3_df['Gender'] == 'Female']\n",
    "\n",
    "# Filter for females aged 27\n",
    "female_27_data = female_data[female_data['Age'] == 27]\n",
    "\n",
    "# Calculate the most used platform by counting occurrences\n",
    "most_used_platform = female_27_data['Platform'].value_counts().idxmax()\n",
    "\n",
    "# Display the result\n",
    "print(f\"The most used platform by women aged 27 is: {most_used_platform}\")"
   ]
  },
  {
   "cell_type": "code",
   "execution_count": 37,
   "metadata": {},
   "outputs": [
    {
     "name": "stdout",
     "output_type": "stream",
     "text": [
      "The most used platform by women aged 28 is: Instagram\n"
     ]
    }
   ],
   "source": [
    "# Filter for female entries\n",
    "female_data = zln_analysis_3_df[zln_analysis_3_df['Gender'] == 'Female']\n",
    "\n",
    "# Filter for females aged 27\n",
    "female_27_data = female_data[female_data['Age'] == 28]\n",
    "\n",
    "# Calculate the most used platform by counting occurrences\n",
    "most_used_platform = female_27_data['Platform'].value_counts().idxmax()\n",
    "\n",
    "# Display the result\n",
    "print(f\"The most used platform by women aged 28 is: {most_used_platform}\")"
   ]
  },
  {
   "cell_type": "code",
   "execution_count": 38,
   "metadata": {},
   "outputs": [
    {
     "name": "stdout",
     "output_type": "stream",
     "text": [
      "The most used platform by men aged 27 is: Twitter\n"
     ]
    }
   ],
   "source": [
    "# Filter for male entries\n",
    "male_data = zln_analysis_3_df[zln_analysis_3_df['Gender'] == 'Male']\n",
    "\n",
    "# Filter for males aged 27\n",
    "male_data_27 = male_data[male_data['Age'] == 27]\n",
    "\n",
    "# Calculate the most used platform by counting occurrences\n",
    "most_used_platform = male_data_27['Platform'].value_counts().idxmax()\n",
    "\n",
    "# Display the result\n",
    "print(f\"The most used platform by men aged 27 is: {most_used_platform}\")"
   ]
  },
  {
   "cell_type": "code",
   "execution_count": 39,
   "metadata": {},
   "outputs": [
    {
     "name": "stdout",
     "output_type": "stream",
     "text": [
      "The most used platform by men aged 28 is: Instagram\n"
     ]
    }
   ],
   "source": [
    "# Filter for male entries\n",
    "male_data = zln_analysis_3_df[zln_analysis_3_df['Gender'] == 'Male']\n",
    "\n",
    "# Filter for males aged 27\n",
    "male_data_27 = male_data[male_data['Age'] == 28]\n",
    "\n",
    "# Calculate the most used platform by counting occurrences\n",
    "most_used_platform = male_data_27['Platform'].value_counts().idxmax()\n",
    "\n",
    "# Display the result\n",
    "print(f\"The most used platform by men aged 28 is: {most_used_platform}\")"
   ]
  },
  {
   "cell_type": "code",
   "execution_count": 40,
   "metadata": {},
   "outputs": [
    {
     "name": "stdout",
     "output_type": "stream",
     "text": [
      "The most used platform by non-binary aged 27 is: LinkedIn\n"
     ]
    }
   ],
   "source": [
    "# Filter for non-binary entries\n",
    "non_binary_data = zln_analysis_3_df[zln_analysis_3_df['Gender'] == 'Non-binary']\n",
    "\n",
    "# Calculate the average age of non-binary individuals\n",
    "average_age = non_binary_data['Age'].mean()\n",
    "\n",
    "# Filter for non-binary individuals at the average age\n",
    "non_binary_average_age_data = non_binary_data[non_binary_data['Age'] == 27]\n",
    "\n",
    "# Calculate the most used platform by counting occurrences\n",
    "most_used_platform = non_binary_average_age_data['Platform'].value_counts().idxmax()\n",
    "\n",
    "# Display the result\n",
    "print(f\"The most used platform by non-binary aged 27 is: {most_used_platform}\")"
   ]
  },
  {
   "cell_type": "code",
   "execution_count": 41,
   "metadata": {},
   "outputs": [
    {
     "name": "stdout",
     "output_type": "stream",
     "text": [
      "The most used platform by non-binary aged 28 is: Facebook\n"
     ]
    }
   ],
   "source": [
    "# Filter for non-binary entries\n",
    "non_binary_data = zln_analysis_3_df[zln_analysis_3_df['Gender'] == 'Non-binary']\n",
    "\n",
    "# Calculate the average age of non-binary individuals\n",
    "average_age = non_binary_data['Age'].mean()\n",
    "\n",
    "# Filter for non-binary individuals at the average age\n",
    "non_binary_average_age_data = non_binary_data[non_binary_data['Age'] == 28]\n",
    "\n",
    "# Calculate the most used platform by counting occurrences\n",
    "most_used_platform = non_binary_average_age_data['Platform'].value_counts().idxmax()\n",
    "\n",
    "# Display the result\n",
    "print(f\"The most used platform by non-binary aged 28 is: {most_used_platform}\")"
   ]
  },
  {
   "cell_type": "markdown",
   "metadata": {},
   "source": [
    "End of Zilan's Work"
   ]
  },
  {
   "cell_type": "code",
   "execution_count": null,
   "metadata": {},
   "outputs": [],
=======
>>>>>>> f270c62747fbcb4365efc26fa2c4faad8c07a3f4
   "source": []
  }
 ],
 "metadata": {
  "kernelspec": {
   "display_name": "base",
   "language": "python",
   "name": "python3"
  },
  "language_info": {
   "codemirror_mode": {
    "name": "ipython",
    "version": 3
   },
   "file_extension": ".py",
   "mimetype": "text/x-python",
   "name": "python",
   "nbconvert_exporter": "python",
   "pygments_lexer": "ipython3",
   "version": "3.12.4"
  }
 },
 "nbformat": 4,
 "nbformat_minor": 2
}
