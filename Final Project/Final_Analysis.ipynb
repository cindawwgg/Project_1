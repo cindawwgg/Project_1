{
 "cells": [
  {
   "cell_type": "code",
   "execution_count": null,
   "metadata": {},
   "outputs": [],
   "source": [
    "from pathlib import Path\n",
    "import pandas as pd \n",
    "import matplotlib.pyplot as plt\n",
    "import pandas as pd\n",
    "import scipy.stats as st\n",
    "from scipy.stats import linregress"
   ]
  },
  {
   "cell_type": "code",
<<<<<<< HEAD
   "execution_count": 2,
   "metadata": {},
   "outputs": [
    {
     "data": {
      "text/html": [
       "<div>\n",
       "<style scoped>\n",
       "    .dataframe tbody tr th:only-of-type {\n",
       "        vertical-align: middle;\n",
       "    }\n",
       "\n",
       "    .dataframe tbody tr th {\n",
       "        vertical-align: top;\n",
       "    }\n",
       "\n",
       "    .dataframe thead th {\n",
       "        text-align: right;\n",
       "    }\n",
       "</style>\n",
       "<table border=\"1\" class=\"dataframe\">\n",
       "  <thead>\n",
       "    <tr style=\"text-align: right;\">\n",
       "      <th></th>\n",
       "      <th>User_ID</th>\n",
       "      <th>Age</th>\n",
       "      <th>Gender</th>\n",
       "      <th>Platform</th>\n",
       "      <th>Daily_Usage_Time (minutes)</th>\n",
       "      <th>Posts_Per_Day</th>\n",
       "      <th>Likes_Received_Per_Day</th>\n",
       "      <th>Comments_Received_Per_Day</th>\n",
       "      <th>Messages_Sent_Per_Day</th>\n",
       "      <th>Dominant_Emotion</th>\n",
       "    </tr>\n",
       "  </thead>\n",
       "  <tbody>\n",
       "    <tr>\n",
       "      <th>0</th>\n",
       "      <td>1</td>\n",
       "      <td>25</td>\n",
       "      <td>Female</td>\n",
       "      <td>Instagram</td>\n",
       "      <td>120</td>\n",
       "      <td>3</td>\n",
       "      <td>45</td>\n",
       "      <td>10</td>\n",
       "      <td>12</td>\n",
       "      <td>Happiness</td>\n",
       "    </tr>\n",
       "    <tr>\n",
       "      <th>1</th>\n",
       "      <td>2</td>\n",
       "      <td>30</td>\n",
       "      <td>Male</td>\n",
       "      <td>Twitter</td>\n",
       "      <td>90</td>\n",
       "      <td>5</td>\n",
       "      <td>20</td>\n",
       "      <td>25</td>\n",
       "      <td>30</td>\n",
       "      <td>Anger</td>\n",
       "    </tr>\n",
       "    <tr>\n",
       "      <th>2</th>\n",
       "      <td>3</td>\n",
       "      <td>22</td>\n",
       "      <td>Non-binary</td>\n",
       "      <td>Facebook</td>\n",
       "      <td>60</td>\n",
       "      <td>2</td>\n",
       "      <td>15</td>\n",
       "      <td>5</td>\n",
       "      <td>20</td>\n",
       "      <td>Neutral</td>\n",
       "    </tr>\n",
       "    <tr>\n",
       "      <th>3</th>\n",
       "      <td>4</td>\n",
       "      <td>28</td>\n",
       "      <td>Female</td>\n",
       "      <td>Instagram</td>\n",
       "      <td>200</td>\n",
       "      <td>8</td>\n",
       "      <td>100</td>\n",
       "      <td>30</td>\n",
       "      <td>50</td>\n",
       "      <td>Anxiety</td>\n",
       "    </tr>\n",
       "    <tr>\n",
       "      <th>4</th>\n",
       "      <td>5</td>\n",
       "      <td>33</td>\n",
       "      <td>Male</td>\n",
       "      <td>LinkedIn</td>\n",
       "      <td>45</td>\n",
       "      <td>1</td>\n",
       "      <td>5</td>\n",
       "      <td>2</td>\n",
       "      <td>10</td>\n",
       "      <td>Boredom</td>\n",
       "    </tr>\n",
       "  </tbody>\n",
       "</table>\n",
       "</div>"
      ],
      "text/plain": [
       "   User_ID  Age      Gender   Platform  Daily_Usage_Time (minutes)  \\\n",
       "0        1   25      Female  Instagram                         120   \n",
       "1        2   30        Male    Twitter                          90   \n",
       "2        3   22  Non-binary   Facebook                          60   \n",
       "3        4   28      Female  Instagram                         200   \n",
       "4        5   33        Male   LinkedIn                          45   \n",
       "\n",
       "   Posts_Per_Day  Likes_Received_Per_Day  Comments_Received_Per_Day  \\\n",
       "0              3                      45                         10   \n",
       "1              5                      20                         25   \n",
       "2              2                      15                          5   \n",
       "3              8                     100                         30   \n",
       "4              1                       5                          2   \n",
       "\n",
       "   Messages_Sent_Per_Day Dominant_Emotion  \n",
       "0                     12        Happiness  \n",
       "1                     30            Anger  \n",
       "2                     20          Neutral  \n",
       "3                     50          Anxiety  \n",
       "4                     10          Boredom  "
      ]
     },
     "execution_count": 2,
     "metadata": {},
     "output_type": "execute_result"
    }
   ],
=======
   "execution_count": null,
   "metadata": {},
   "outputs": [],
>>>>>>> bcec6e2912148164ab1f473a5cf65f338c9f3851
   "source": [
    "# Study data files\n",
    "path = \"../Jennifer's_work/Clean_CSV.csv\"\n",
    "\n",
    "# Read data and the study results\n",
    "data = pd.read_csv(path)\n",
    "data.head() "
   ]
  },
  {
   "cell_type": "markdown",
   "metadata": {},
   "source": [
    "Cindy's Work: Analysis over Age and Time Spent"
   ]
  },
  {
   "cell_type": "code",
<<<<<<< HEAD
   "execution_count": 3,
   "metadata": {},
   "outputs": [
    {
     "data": {
      "text/plain": [
       "96.30952380952381"
      ]
     },
     "execution_count": 3,
     "metadata": {},
     "output_type": "execute_result"
    }
   ],
=======
   "execution_count": null,
   "metadata": {},
   "outputs": [],
>>>>>>> bcec6e2912148164ab1f473a5cf65f338c9f3851
   "source": [
    "# Calculate what the average overall usage time is \n",
    "cd_overall_avg_time = data['Daily_Usage_Time (minutes)'].mean()\n",
    "cd_overall_avg_time"
   ]
  },
  {
   "cell_type": "code",
<<<<<<< HEAD
   "execution_count": 4,
=======
   "execution_count": null,
>>>>>>> bcec6e2912148164ab1f473a5cf65f338c9f3851
   "metadata": {},
   "outputs": [],
   "source": []
  },
  {
   "cell_type": "code",
<<<<<<< HEAD
   "execution_count": 5,
   "metadata": {},
   "outputs": [
    {
     "data": {
      "text/plain": [
       "PearsonRResult(statistic=0.08103752169850877, pvalue=0.013737831278319346)"
      ]
     },
     "execution_count": 5,
     "metadata": {},
     "output_type": "execute_result"
    }
   ],
   "source": [
    "#Run a correlation on age and time spent using pearson r\n",
    "cd_correlation = st.pearsonr(cd_x,cd_y)\n",
    "cd_correlation"
   ]
  },
  {
   "cell_type": "code",
   "execution_count": 8,
   "metadata": {},
   "outputs": [
    {
     "name": "stdout",
     "output_type": "stream",
     "text": [
      "The average age Daily Time Spent on social media is: 96.30952380952381\n",
      "The most middle amount of time users spend: 85.0\n",
      "The most common amount of time users spend: 0    60\n",
      "1    70\n",
      "2    75\n",
      "3    90\n",
      "Name: Daily_Usage_Time (minutes), dtype: int64\n",
      "The least amount of time spent: 40\n",
      "The most amount of time spent: 200\n",
      "39.22827429289166\n",
      "1538.8575039983446\n",
      "The lower quartile of Time Spent is: 65.0\n",
      "The upper quartile of Time Spent is: 120.0\n",
      "The interquartile range of Time Spent is: 55.0\n",
      "The median of Time Spent is: 85.0 \n",
      "Time Spent below -17.5 could be outliers.\n",
      "Time Spent above 202.5 could be outliers.\n"
     ]
    },
    {
     "data": {
      "image/png": "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",
      "text/plain": [
       "<Figure size 640x480 with 1 Axes>"
      ]
     },
     "metadata": {},
     "output_type": "display_data"
    }
   ],
   "source": [
    "#Create a box plot showing the distribution of the users by average time on social media\n",
    "data['Daily_Usage_Time (minutes)'].plot(kind='box')\n",
    "plt.ylabel('Avg Daily Usage Time (minutes)')\n",
    "plt.title('Distribution of Users by Avg Daily Time Spent on Social Media')\n",
    "plt.grid(True)\n",
    "plt.savefig(\"../Images/Exhibits-Cindy/time_box.png\")\n",
    "#Generate summary statistics of the age distribution\n",
    "cd_time_mean = data['Daily_Usage_Time (minutes)'].mean()\n",
    "cd_time_median = data['Daily_Usage_Time (minutes)'].median()\n",
    "cd_time_mode = data['Daily_Usage_Time (minutes)'].mode()\n",
    "cd_time_min = data['Daily_Usage_Time (minutes)'].min()\n",
    "cd_time_max = data['Daily_Usage_Time (minutes)'].max()\n",
    "cd_time_var = data['Daily_Usage_Time (minutes)'].var()\n",
    "cd_time_std = data['Daily_Usage_Time (minutes)'].std()\n",
    "\n",
    "print(f'The average age Daily Time Spent on social media is: {cd_time_mean}')\n",
    "print(f'The most middle amount of time users spend: {cd_time_median}')\n",
    "print(f'The most common amount of time users spend: {cd_time_mode}')\n",
    "print(f\"The least amount of time spent: {cd_time_min}\")\n",
    "print(f\"The most amount of time spent: {cd_time_max}\")\n",
    "print(cd_time_std)\n",
    "print(cd_time_var)\n",
    "\n",
    "\n",
    "cd_quartiles = data['Daily_Usage_Time (minutes)'].quantile([.25,.5,.75])\n",
    "cd_lowerq = cd_quartiles[0.25]\n",
    "cd_upperq = cd_quartiles[0.75]\n",
    "cd_iqr = cd_upperq-cd_lowerq\n",
    "\n",
    "print(f\"The lower quartile of Time Spent is: {cd_lowerq}\")\n",
    "print(f\"The upper quartile of Time Spent is: {cd_upperq}\")\n",
    "print(f\"The interquartile range of Time Spent is: {cd_iqr}\")\n",
    "print(f\"The median of Time Spent is: {cd_quartiles[0.5]} \")\n",
    "\n",
    "cd_lower_bound = cd_lowerq - (1.5*cd_iqr)\n",
    "cd_upper_bound = cd_upperq + (1.5*cd_iqr)\n",
    "print(f\"Time Spent below {cd_lower_bound} could be outliers.\")\n",
    "print(f\"Time Spent above {cd_upper_bound} could be outliers.\")"
   ]
  },
  {
   "cell_type": "code",
   "execution_count": 9,
   "metadata": {},
   "outputs": [
    {
     "data": {
      "image/png": "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",
      "text/plain": [
       "<Figure size 640x480 with 1 Axes>"
      ]
     },
     "metadata": {},
     "output_type": "display_data"
    }
   ],
   "source": [
    "plt.hist(data['Daily_Usage_Time (minutes)'])\n",
    "plt.xlabel('Avg Daily Usage Time (minutes)')\n",
    "plt.ylabel('Frequency of Users')\n",
    "plt.title('Distribution of Users by Avg Daily Time Spent on Social Media')\n",
    "plt.grid(True)\n",
    "plt.savefig(\"../Images/Exhibits-Cindy/time_histogram.png\")"
   ]
=======
   "execution_count": null,
   "metadata": {},
   "outputs": [],
   "source": []
  },
  {
   "cell_type": "code",
   "execution_count": null,
   "metadata": {},
   "outputs": [],
   "source": []
>>>>>>> bcec6e2912148164ab1f473a5cf65f338c9f3851
  },
  {
   "cell_type": "code",
   "execution_count": null,
   "metadata": {},
   "outputs": [],
   "source": []
  },
  {
   "cell_type": "markdown",
   "metadata": {},
   "source": [
    "End Cindy's Work"
   ]
  },
  {
   "cell_type": "code",
   "execution_count": null,
   "metadata": {},
   "outputs": [],
   "source": []
  },
  {
   "cell_type": "code",
   "execution_count": null,
   "metadata": {},
   "outputs": [],
   "source": []
  },
  {
   "cell_type": "markdown",
   "metadata": {},
   "source": [
    "Daniel's Work"
   ]
  },
  {
   "cell_type": "code",
   "execution_count": null,
   "metadata": {},
   "outputs": [],
   "source": [
    "# Reading the CSV\n",
    "\n",
    "social_data= pd.read_csv(path)\n",
    "social_data.head()"
   ]
  },
  {
   "cell_type": "code",
   "execution_count": null,
   "metadata": {},
   "outputs": [],
   "source": [
    "# First Analysis comparisons between Age and Emotional Well Being\n",
    "# Setting up the DataFrame to only use Age and Dominant Emotion Columns\n",
    "\n",
    "analysis_1_df= social_data[[\"Age\", \"Dominant_Emotion\"]]\n",
    "analysis_1_df"
   ]
  },
  {
   "cell_type": "code",
   "execution_count": null,
   "metadata": {},
   "outputs": [],
   "source": [
    "# Calculating Median and Mode for the Age Column\n",
    "\n",
    "median_age = analysis_1_df[\"Age\"].median()\n",
    "median_age\n",
    "\n",
    "mode_age= analysis_1_df[\"Age\"].mode()\n",
    "mode_age"
   ]
  },
  {
   "cell_type": "code",
   "execution_count": null,
   "metadata": {},
   "outputs": [],
   "source": [
    "# Description of Age Column\n",
    "analysis_1_df[\"Age\"].describe()"
   ]
  },
  {
   "cell_type": "code",
   "execution_count": null,
   "metadata": {},
   "outputs": [],
   "source": [
    "# Bar Graph to show the total counts of each Emotion\n",
    "\n",
    "emotion_counts = analysis_1_df['Dominant_Emotion'].value_counts()\n",
    "\n",
    "plt.figure(figsize=(10, 5))\n",
    "plt.bar(emotion_counts.index, emotion_counts.values)\n",
    "plt.title('Dominant Emotion Counts')\n",
    "plt.xlabel('Dominant Emotion')\n",
    "plt.ylabel('Counts')\n",
    "plt.xticks(rotation=45)\n",
    "plt.savefig(\"../Images/Daniels_png_files/Emotion_Count.png\")\n",
    "plt.show()"
   ]
  },
  {
   "cell_type": "code",
   "execution_count": null,
   "metadata": {},
   "outputs": [],
   "source": [
    "# Bar Graph showing the totals per Age Group\n",
    "\n",
    "age_counts = analysis_1_df['Age'].value_counts()\n",
    "\n",
    "# Create the bar chart\n",
    "plt.figure(figsize=(10, 5))\n",
    "plt.bar(age_counts.index, age_counts.values)\n",
    "plt.title('Totals per Age Groups')\n",
    "plt.xlabel('Ages')\n",
    "plt.ylabel('Total')\n",
    "plt.xticks(rotation=45)\n",
    "plt.savefig(\"../Images/Daniels_png_files/Total_Age_Groups.png\")\n",
    "plt.show()"
   ]
  },
  {
   "cell_type": "code",
   "execution_count": null,
   "metadata": {},
   "outputs": [],
   "source": [
    "# Setting up DataFrame to only focus on the Happiness Emotion\n",
    "\n",
    "happiness_df = analysis_1_df[analysis_1_df['Dominant_Emotion'] == 'Happiness']\n",
    "happiness_df.value_counts()"
   ]
  },
  {
   "cell_type": "code",
   "execution_count": null,
   "metadata": {},
   "outputs": [],
   "source": [
    "# Setting up DataFrame to only focus on the ANger Emotion\n",
    "\n",
    "anger_df = analysis_1_df[analysis_1_df['Dominant_Emotion'] == 'Anger']\n",
    "anger_df.value_counts()"
   ]
  },
  {
   "cell_type": "code",
   "execution_count": null,
   "metadata": {},
   "outputs": [],
   "source": [
    "# Value Count of just the 27 year old age group.\n",
    "\n",
    "age_group_df = analysis_1_df[analysis_1_df['Age'] == 27]\n",
    "age_group_df.value_counts()"
   ]
  },
  {
   "cell_type": "code",
   "execution_count": null,
   "metadata": {},
   "outputs": [],
   "source": [
    "# Bar Graph showing the distribution of each Age group for only Happiness\n",
    "\n",
    "happy_counts = happiness_df['Age'].value_counts()\n",
    "\n",
    "# Creating the bar chart\n",
    "plt.figure(figsize=(10, 5))\n",
    "plt.bar(happy_counts.index, happy_counts.values)\n",
    "plt.title('Happiness Emotion per Age Group')\n",
    "plt.xlabel('Ages')\n",
    "plt.ylabel('Total')\n",
    "plt.xticks(rotation=45)\n",
    "plt.savefig(\"../Images/Daniels_png_files/Happiness_Per_Age.png\")\n",
    "plt.show()"
   ]
  },
  {
   "cell_type": "code",
   "execution_count": null,
   "metadata": {},
   "outputs": [],
   "source": [
    "# Bar Graph showing the dsitribution of each Age group for only Anger\n",
    "\n",
    "anger_counts = anger_df['Age'].value_counts()\n",
    "\n",
    "# Creating the bar chart\n",
    "plt.figure(figsize=(10, 5))\n",
    "plt.bar(anger_counts.index, anger_counts.values)\n",
    "plt.title('Anger Emotion per Age Group')\n",
    "plt.xlabel('Ages')\n",
    "plt.ylabel('Total')\n",
    "plt.xticks(rotation=45)\n",
    "plt.savefig(\"../Images/Daniels_png_files/Anger_Per_Age.png\")\n",
    "plt.show()"
   ]
  },
  {
   "cell_type": "code",
   "execution_count": null,
   "metadata": {},
   "outputs": [],
   "source": [
    "# Second Anaylsis comparison of Gender, Daily Usage in Minutes and Dominant Emotion\n",
    "\n",
    "analysis_2_df= social_data[[\"Gender\", \"Daily_Usage_Time (minutes)\", \"Dominant_Emotion\"]]\n",
    "analysis_2_df"
   ]
  },
  {
   "cell_type": "code",
   "execution_count": null,
   "metadata": {},
   "outputs": [],
   "source": [
    "# Bar Graph comparing Emotion and Daily Usage in minutes\n",
    "\n",
    "# Grouped by 'Dominant_Emotion' and calculated the mean daily usage time\n",
    "emotion_usage = analysis_2_df.groupby('Dominant_Emotion')['Daily_Usage_Time (minutes)'].mean()\n",
    "\n",
    "# Creation of the bar chart\n",
    "plt.bar(emotion_usage.index, emotion_usage.values)\n",
    "plt.title('Average Daily Usage Time by Dominant Emotion')\n",
    "plt.xlabel('Dominant Emotion')\n",
    "plt.ylabel('Average Daily Usage Time (minutes)')\n",
    "plt.xticks(rotation=45)\n",
    "plt.savefig(\"../Images/Daniels_png_files/Usage_per_Emotion.png\")\n",
    "plt.show()"
   ]
  },
  {
   "cell_type": "code",
   "execution_count": null,
   "metadata": {},
   "outputs": [],
   "source": [
    "# Bar Graph comparing Gender and Daily Usage in minutes\n",
    "\n",
    "# Grouped by 'Gender' and calculated the mean daily usage time\n",
    "gender_usage = analysis_2_df.groupby('Gender')['Daily_Usage_Time (minutes)'].mean()\n",
    "\n",
    "# Create a bar chart using Matplotlib\n",
    "plt.bar(gender_usage.index, gender_usage.values)\n",
    "plt.title('Average Daily Usage Time by Gender')\n",
    "plt.xlabel('Gender')\n",
    "plt.ylabel('Average Daily Usage Time (minutes)')\n",
    "plt.xticks(rotation=0)\n",
    "plt.savefig(\"../Images/Daniels_png_files/Usage_Per_Gender.png\")  \n",
    "plt.show()"
   ]
  },
  {
   "cell_type": "code",
   "execution_count": null,
   "metadata": {},
   "outputs": [],
   "source": [
    "# Setting up Data Frame for only Male Gender\n",
    "\n",
    "male_df = analysis_2_df[analysis_2_df['Gender'] == 'Male']\n",
    "male_df"
   ]
  },
  {
   "cell_type": "code",
   "execution_count": null,
   "metadata": {},
   "outputs": [],
   "source": [
    "# Bar Graph for only Males, comparing their Emotional state vs Social Media Usage in Minutes\n",
    "\n",
    "# Grouping by 'Dominant_Emotion' and calculating the mean daily usage time for only males\n",
    "male_usage = male_df.groupby('Dominant_Emotion')['Daily_Usage_Time (minutes)'].mean()\n",
    "\n",
    "# Created a bar chart using Matplotlib\n",
    "plt.bar(male_usage.index, male_usage.values)\n",
    "plt.title('Male Gender Daily Usage Time by Dominant Emotion')\n",
    "plt.xlabel('Dominant Emotion')\n",
    "plt.ylabel('Average Daily Usage Time (minutes)')\n",
    "plt.xticks(rotation=45)\n",
    "plt.savefig(\"../Images/Daniels_png_files/Male_usage_vs_emotion.png\")\n",
    "plt.show()"
   ]
  },
  {
   "cell_type": "code",
   "execution_count": null,
   "metadata": {},
   "outputs": [],
   "source": [
    "# Average time spent per emotion for male individuals.\n",
    "male_usage"
   ]
  },
  {
   "cell_type": "code",
   "execution_count": null,
   "metadata": {},
   "outputs": [],
   "source": [
    "# Setting up Data Frame for only Female Gender\n",
    "\n",
    "female_df = analysis_2_df[analysis_2_df['Gender'] == 'Female']\n",
    "female_df"
   ]
  },
  {
   "cell_type": "code",
   "execution_count": null,
   "metadata": {},
   "outputs": [],
   "source": [
    "# Bar Graph for only Females, comparing their Emotional state vs Social Media Usage in Minutes\n",
    "\n",
    "# Grouping by 'Dominant_Emotion' and calculating the mean daily usage time for females\n",
    "female_usage = female_df.groupby('Dominant_Emotion')['Daily_Usage_Time (minutes)'].mean()\n",
    "\n",
    "# Created a bar chart using Matplotlib\n",
    "plt.bar(female_usage.index, female_usage.values)\n",
    "plt.title('Female Gender Daily Usage Time by Dominant Emotion')\n",
    "plt.xlabel('Dominant Emotion')\n",
    "plt.ylabel('Average Daily Usage Time (minutes)')\n",
    "plt.xticks(rotation=45)\n",
    "plt.savefig(\"../Images/Daniels_png_files/Female_usage_vs_emotion.png\")\n",
    "plt.show()"
   ]
  },
  {
   "cell_type": "code",
   "execution_count": null,
   "metadata": {},
   "outputs": [],
   "source": [
    "# Average time spent per emotion for female individuals.\n",
    "\n",
    "female_usage"
   ]
  },
  {
   "cell_type": "code",
   "execution_count": null,
   "metadata": {},
   "outputs": [],
   "source": [
    "# Setting up Data Frame for only Non-Binary Gender\n",
    "\n",
    "non_binary_df = analysis_2_df[analysis_2_df['Gender'] == 'Non-binary']\n",
    "non_binary_df"
   ]
  },
  {
   "cell_type": "code",
   "execution_count": null,
   "metadata": {},
   "outputs": [],
   "source": [
    "# Bar Graph for only Non-Binary, comparing their Emotional state vs Social Media Usage in Minutes\n",
    "\n",
    "# Grouping by 'Dominant_Emotion' and calculating the mean daily usage time for non-binary\n",
    "nb_usage = non_binary_df.groupby('Dominant_Emotion')['Daily_Usage_Time (minutes)'].mean()\n",
    "\n",
    "# Created a bar chart using Matplotlib\n",
    "plt.bar(nb_usage.index, nb_usage.values)\n",
    "plt.title('Non-Binary Gender Daily Usage Time by Dominant Emotion')\n",
    "plt.xlabel('Dominant Emotion')\n",
    "plt.ylabel('Average Daily Usage Time (minutes)')\n",
    "plt.xticks(rotation=45)\n",
    "plt.savefig(\"../Images/Daniels_png_files/Nonbinary_usage_vs_emotion.png\")\n",
    "plt.show()"
   ]
  },
  {
   "cell_type": "code",
   "execution_count": null,
   "metadata": {},
   "outputs": [],
   "source": [
    "# Average time spent per emotion for non-binary individuals\n",
    "\n",
    "nb_usage"
   ]
  },
  {
   "cell_type": "code",
   "execution_count": null,
   "metadata": {},
   "outputs": [],
   "source": [
    "# Third Analysis comparisons between Posts, Likes, Comments and Messages per day and Dominant Emotion\n",
    "\n",
    "analysis_3_df = social_data[[\"Posts_Per_Day\", \"Likes_Received_Per_Day\", \n",
    "                             \"Comments_Received_Per_Day\", \"Messages_Sent_Per_Day\", \"Dominant_Emotion\"]]\n",
    "analysis_3_df"
   ]
  },
  {
   "cell_type": "code",
   "execution_count": null,
   "metadata": {},
   "outputs": [],
   "source": [
    "# Value count of Emotions\n",
    "\n",
    "analysis_3_df[\"Dominant_Emotion\"].value_counts()"
   ]
  },
  {
   "cell_type": "code",
   "execution_count": null,
   "metadata": {},
   "outputs": [],
   "source": [
    "# Pie Chart Comparison of Likes received and Emotion\n",
    "\n",
    "# Grouping by Dominant Emotion and sum of the Likes Received\n",
    "emotion_likes = analysis_3_df.groupby('Dominant_Emotion')['Likes_Received_Per_Day'].sum()\n",
    "\n",
    "# Created a pie chart\n",
    "plt.figure(figsize=(8, 8))\n",
    "plt.pie(emotion_likes, labels=emotion_likes.index, autopct='%1.1f%%', startangle=140)\n",
    "plt.title('Distribution of Likes Received per Day by Dominant Emotion')\n",
    "plt.axis('equal')\n",
    "plt.savefig(\"../Images/Daniels_png_files/Likes_vs_emotion.png\") \n",
    "plt.show()"
   ]
  },
  {
   "cell_type": "code",
   "execution_count": null,
   "metadata": {},
   "outputs": [],
   "source": [
    "# Pie Chart Comparison of Posts per day and Emotion\n",
    "\n",
    "emotion_posts = analysis_3_df.groupby('Dominant_Emotion')['Posts_Per_Day'].sum()\n",
    "\n",
    "# Create a pie chart\n",
    "plt.figure(figsize=(8, 8))\n",
    "plt.pie(emotion_posts, labels=emotion_likes.index, autopct='%1.1f%%', startangle=140)\n",
    "plt.title('Distribution of Posts per Day by Dominant Emotion')\n",
    "plt.axis('equal')\n",
    "plt.savefig(\"../Images/Daniels_png_files/Posts_vs_emotion.png\")   \n",
    "plt.show()"
   ]
  },
  {
   "cell_type": "code",
   "execution_count": null,
   "metadata": {},
   "outputs": [],
   "source": [
    "# Pie Chart Comparison of Comments per day and Emotion\n",
    "\n",
    "# Grouping by Dominant Emotion and sum of the Comments per day.\n",
    "emotion_comments = analysis_3_df.groupby('Dominant_Emotion')['Comments_Received_Per_Day'].sum()\n",
    "\n",
    "# Create a pie chart\n",
    "plt.figure(figsize=(8, 8))\n",
    "plt.pie(emotion_comments, labels=emotion_likes.index, autopct='%1.1f%%', startangle=140)\n",
    "plt.title('Distribution of Comments per Day by Dominant Emotion')\n",
    "plt.axis('equal')\n",
    "plt.savefig(\"../Images/Daniels_png_files/Comments_vs_emotion.png\")   \n",
    "plt.show()"
   ]
  },
  {
   "cell_type": "code",
   "execution_count": null,
   "metadata": {},
   "outputs": [],
   "source": [
    "# Pie Chart Comparison of Messages per day and Emotion\n",
    "\n",
    "# Grouping by Dominant Emotion and sum of Messages per day\n",
    "emotion_messages = analysis_3_df.groupby('Dominant_Emotion')['Messages_Sent_Per_Day'].sum()\n",
    "\n",
    "# Create a pie chart\n",
    "plt.figure(figsize=(8, 8))\n",
    "plt.pie(emotion_messages, labels=emotion_likes.index, autopct='%1.1f%%', startangle=140)\n",
    "plt.title('Distribution of Messages per Day by Dominant Emotion')\n",
    "plt.axis('equal')\n",
    "plt.savefig(\"../Images/Daniels_png_files/Messages_vs_emotion.png\")  \n",
    "plt.show()"
   ]
  },
  {
   "cell_type": "code",
   "execution_count": null,
   "metadata": {},
   "outputs": [],
   "source": [
    "# Combined Emotions Data Frame to see totals\n",
    "\n",
    "combined_emotions_df = pd.DataFrame({\n",
    "    'Messages Sent Per Day': emotion_messages,\n",
    "    'Comments Received Per Day': emotion_comments,\n",
    "    'Posts Per Day': emotion_posts,\n",
    "    'Likes Received Per Day': emotion_likes\n",
    "})\n",
    "\n",
    "# Print the combined DataFrame\n",
    "print(combined_emotions_df)"
   ]
  },
  {
   "cell_type": "markdown",
   "metadata": {},
   "source": [
    "End of Daniel's Work"
   ]
  }
 ],
 "metadata": {
  "kernelspec": {
   "display_name": "base",
   "language": "python",
   "name": "python3"
  },
  "language_info": {
   "codemirror_mode": {
    "name": "ipython",
    "version": 3
   },
   "file_extension": ".py",
   "mimetype": "text/x-python",
   "name": "python",
   "nbconvert_exporter": "python",
   "pygments_lexer": "ipython3",
   "version": "3.12.4"
  }
 },
 "nbformat": 4,
 "nbformat_minor": 2
}
